{
  "nbformat": 4,
  "nbformat_minor": 0,
  "metadata": {
    "kernelspec": {
      "name": "python3",
      "display_name": "Python 3"
    },
    "language_info": {
      "codemirror_mode": {
        "name": "ipython",
        "version": 3
      },
      "file_extension": ".py",
      "mimetype": "text/x-python",
      "name": "python",
      "nbconvert_exporter": "python",
      "pygments_lexer": "ipython3",
      "version": "3.5.4"
    },
    "colab": {
      "name": "DonorsChoose_RNN.ipynb",
      "provenance": [],
      "collapsed_sections": [],
      "toc_visible": true
    },
    "accelerator": "GPU"
  },
  "cells": [
    {
      "cell_type": "code",
      "metadata": {
        "id": "57USCVaFIeMa",
        "colab_type": "code",
        "colab": {}
      },
      "source": [
        "import numpy as np\n",
        "import pandas as pd\n",
        "import matplotlib.pyplot as plt\n",
        "from textblob import TextBlob\n",
        "\n",
        "#import os"
      ],
      "execution_count": 0,
      "outputs": []
    },
    {
      "cell_type": "code",
      "metadata": {
        "id": "xPcqsCnP4oS0",
        "colab_type": "code",
        "outputId": "a85a4954-45f2-4a0f-dc28-2d27469f95f1",
        "colab": {
          "base_uri": "https://localhost:8080/",
          "height": 303
        }
      },
      "source": [
        "!pip install keras==2.2.4"
      ],
      "execution_count": 0,
      "outputs": [
        {
          "output_type": "stream",
          "text": [
            "Collecting keras==2.2.4\n",
            "\u001b[?25l  Downloading https://files.pythonhosted.org/packages/5e/10/aa32dad071ce52b5502266b5c659451cfd6ffcbf14e6c8c4f16c0ff5aaab/Keras-2.2.4-py2.py3-none-any.whl (312kB)\n",
            "\r\u001b[K     |█                               | 10kB 19.5MB/s eta 0:00:01\r\u001b[K     |██                              | 20kB 1.8MB/s eta 0:00:01\r\u001b[K     |███▏                            | 30kB 2.6MB/s eta 0:00:01\r\u001b[K     |████▏                           | 40kB 1.7MB/s eta 0:00:01\r\u001b[K     |█████▎                          | 51kB 2.1MB/s eta 0:00:01\r\u001b[K     |██████▎                         | 61kB 2.5MB/s eta 0:00:01\r\u001b[K     |███████▍                        | 71kB 2.9MB/s eta 0:00:01\r\u001b[K     |████████▍                       | 81kB 3.3MB/s eta 0:00:01\r\u001b[K     |█████████▍                      | 92kB 3.7MB/s eta 0:00:01\r\u001b[K     |██████████▌                     | 102kB 2.8MB/s eta 0:00:01\r\u001b[K     |███████████▌                    | 112kB 2.8MB/s eta 0:00:01\r\u001b[K     |████████████▋                   | 122kB 2.8MB/s eta 0:00:01\r\u001b[K     |█████████████▋                  | 133kB 2.8MB/s eta 0:00:01\r\u001b[K     |██████████████▊                 | 143kB 2.8MB/s eta 0:00:01\r\u001b[K     |███████████████▊                | 153kB 2.8MB/s eta 0:00:01\r\u001b[K     |████████████████▊               | 163kB 2.8MB/s eta 0:00:01\r\u001b[K     |█████████████████▉              | 174kB 2.8MB/s eta 0:00:01\r\u001b[K     |██████████████████▉             | 184kB 2.8MB/s eta 0:00:01\r\u001b[K     |████████████████████            | 194kB 2.8MB/s eta 0:00:01\r\u001b[K     |█████████████████████           | 204kB 2.8MB/s eta 0:00:01\r\u001b[K     |██████████████████████          | 215kB 2.8MB/s eta 0:00:01\r\u001b[K     |███████████████████████         | 225kB 2.8MB/s eta 0:00:01\r\u001b[K     |████████████████████████▏       | 235kB 2.8MB/s eta 0:00:01\r\u001b[K     |█████████████████████████▏      | 245kB 2.8MB/s eta 0:00:01\r\u001b[K     |██████████████████████████▏     | 256kB 2.8MB/s eta 0:00:01\r\u001b[K     |███████████████████████████▎    | 266kB 2.8MB/s eta 0:00:01\r\u001b[K     |████████████████████████████▎   | 276kB 2.8MB/s eta 0:00:01\r\u001b[K     |█████████████████████████████▍  | 286kB 2.8MB/s eta 0:00:01\r\u001b[K     |██████████████████████████████▍ | 296kB 2.8MB/s eta 0:00:01\r\u001b[K     |███████████████████████████████▌| 307kB 2.8MB/s eta 0:00:01\r\u001b[K     |████████████████████████████████| 317kB 2.8MB/s \n",
            "\u001b[?25hRequirement already satisfied: six>=1.9.0 in /usr/local/lib/python3.6/dist-packages (from keras==2.2.4) (1.12.0)\n",
            "Requirement already satisfied: pyyaml in /usr/local/lib/python3.6/dist-packages (from keras==2.2.4) (3.13)\n",
            "Requirement already satisfied: keras-preprocessing>=1.0.5 in /usr/local/lib/python3.6/dist-packages (from keras==2.2.4) (1.1.0)\n",
            "Requirement already satisfied: scipy>=0.14 in /usr/local/lib/python3.6/dist-packages (from keras==2.2.4) (1.3.2)\n",
            "Requirement already satisfied: h5py in /usr/local/lib/python3.6/dist-packages (from keras==2.2.4) (2.8.0)\n",
            "Requirement already satisfied: numpy>=1.9.1 in /usr/local/lib/python3.6/dist-packages (from keras==2.2.4) (1.17.4)\n",
            "Requirement already satisfied: keras-applications>=1.0.6 in /usr/local/lib/python3.6/dist-packages (from keras==2.2.4) (1.0.8)\n",
            "Installing collected packages: keras\n",
            "  Found existing installation: Keras 2.2.5\n",
            "    Uninstalling Keras-2.2.5:\n",
            "      Successfully uninstalled Keras-2.2.5\n",
            "Successfully installed keras-2.2.4\n"
          ],
          "name": "stdout"
        }
      ]
    },
    {
      "cell_type": "code",
      "metadata": {
        "id": "Mf6Fmba-LOsW",
        "colab_type": "code",
        "outputId": "ca987479-3789-4328-9fb6-0e017208c23d",
        "colab": {
          "base_uri": "https://localhost:8080/",
          "height": 125
        }
      },
      "source": [
        "from google.colab import drive\n",
        "drive.mount('/content/gdrive')"
      ],
      "execution_count": 0,
      "outputs": [
        {
          "output_type": "stream",
          "text": [
            "Go to this URL in a browser: https://accounts.google.com/o/oauth2/auth?client_id=947318989803-6bn6qk8qdgf4n4g3pfee6491hc0brc4i.apps.googleusercontent.com&redirect_uri=urn%3aietf%3awg%3aoauth%3a2.0%3aoob&response_type=code&scope=email%20https%3a%2f%2fwww.googleapis.com%2fauth%2fdocs.test%20https%3a%2f%2fwww.googleapis.com%2fauth%2fdrive%20https%3a%2f%2fwww.googleapis.com%2fauth%2fdrive.photos.readonly%20https%3a%2f%2fwww.googleapis.com%2fauth%2fpeopleapi.readonly\n",
            "\n",
            "Enter your authorization code:\n",
            "··········\n",
            "Mounted at /content/gdrive\n"
          ],
          "name": "stdout"
        }
      ]
    },
    {
      "cell_type": "code",
      "metadata": {
        "id": "penQixYRIeMk",
        "colab_type": "code",
        "outputId": "f175a889-1a26-46d9-c197-5f915bb94975",
        "colab": {
          "base_uri": "https://localhost:8080/",
          "height": 72
        }
      },
      "source": [
        "# load data from google drive\n",
        "train = pd.read_csv('/content/gdrive/Shared drives/Predictive Analytics Project/Data/Original Dataset/train.csv')\n",
        "resources = pd.read_csv('/content/gdrive/Shared drives/Predictive Analytics Project/Data/Original Dataset/resources.csv')\n",
        "test = pd.read_csv('/content/gdrive/Shared drives/Predictive Analytics Project/Data/Original Dataset/test.csv')\n"
      ],
      "execution_count": 0,
      "outputs": [
        {
          "output_type": "stream",
          "text": [
            "/usr/local/lib/python3.6/dist-packages/IPython/core/interactiveshell.py:2718: DtypeWarning: Columns (11,12) have mixed types. Specify dtype option on import or set low_memory=False.\n",
            "  interactivity=interactivity, compiler=compiler, result=result)\n"
          ],
          "name": "stderr"
        }
      ]
    },
    {
      "cell_type": "markdown",
      "metadata": {
        "id": "i6nwLqg-IeMp",
        "colab_type": "text"
      },
      "source": [
        "## create these features for each proposal:\n",
        "- total price\n",
        "- highest single item price"
      ]
    },
    {
      "cell_type": "code",
      "metadata": {
        "id": "dqfK4o_xIeMq",
        "colab_type": "code",
        "colab": {}
      },
      "source": [
        "resources['total_price']=resources['price']*resources['quantity'];\n",
        "#if as_index=True by default, these are series; otherwise, it returns a DataFrame\n",
        "#rg2=resources.groupby(by='id')['total_price'].agg('sum')#same\n",
        "rg1=resources.groupby(by='id', as_index=False)['total_price'].sum();\n",
        "rg2=resources.groupby(by='id',as_index=False)['price'].max();\n",
        "rg2.rename({'price':'highest_single_item_price'},axis='columns',inplace=True);#rename column name\n",
        "rg12=pd.merge(rg1,rg2,how='inner',on='id');"
      ],
      "execution_count": 0,
      "outputs": []
    },
    {
      "cell_type": "markdown",
      "metadata": {
        "id": "hZeR63haIeMx",
        "colab_type": "text"
      },
      "source": [
        "## Join the tables got from resources.csv & train.csv; resources.csv & test.csv"
      ]
    },
    {
      "cell_type": "code",
      "metadata": {
        "id": "-rRfaGEKIeMz",
        "colab_type": "code",
        "colab": {}
      },
      "source": [
        "#print('Projests before 2016-05-17:',np.sum(train1['project_submitted_datetime'] < pd.Timestamp('2016-05-18')))\n",
        "train1=pd.merge(train,rg12,how='left',on='id')\n",
        "test1=pd.merge(test,rg12,how='left',on='id')\n",
        "train1.loc[:,'project_submitted_datetime']=pd.to_datetime(train1.loc[:,'project_submitted_datetime'])\n",
        "test1.loc[:,'project_submitted_datetime']=pd.to_datetime(test1.loc[:,'project_submitted_datetime'])"
      ],
      "execution_count": 0,
      "outputs": []
    },
    {
      "cell_type": "code",
      "metadata": {
        "id": "rBxIq0RZIeM_",
        "colab_type": "code",
        "colab": {}
      },
      "source": [
        "train1['project_submitted_datetime']=train1['project_submitted_datetime'].dt.date\n",
        "test1['project_submitted_datetime']=test1['project_submitted_datetime'].dt.date\n",
        "y_train=train1['project_is_approved']\n",
        "X_train1=train1.drop(['project_is_approved'],axis=1)\n",
        "X_test1=test1\n"
      ],
      "execution_count": 0,
      "outputs": []
    },
    {
      "cell_type": "markdown",
      "metadata": {
        "id": "kiK_fjNWIeNC",
        "colab_type": "text"
      },
      "source": [
        "## text cleaning"
      ]
    },
    {
      "cell_type": "code",
      "metadata": {
        "id": "-oOiFi5AIeND",
        "colab_type": "code",
        "colab": {}
      },
      "source": [
        "X_train1.loc[X_train1['project_essay_3'].notna(), 'new_essay_policy'] = 0 \n",
        "X_train1.loc[X_train1['project_essay_3'].isna(), 'new_essay_policy'] = 1 \n",
        "X_train1.loc[X_train1['project_essay_3'].notna(), 'project_essay_1'] = X_train1.loc[X_train1['project_essay_3'].notna(), 'project_essay_1'] + ' ' + train.loc[X_train1['project_essay_3'].notna(), 'project_essay_2']\n",
        "X_train1.loc[X_train1['project_essay_3'].notna(), 'project_essay_2'] = X_train1.loc[X_train1['project_essay_3'].notna(), 'project_essay_3'] + ' ' + train.loc[X_train1['project_essay_3'].notna(), 'project_essay_4']\n",
        "\n",
        "\n"
      ],
      "execution_count": 0,
      "outputs": []
    },
    {
      "cell_type": "code",
      "metadata": {
        "id": "hzO7VThDIeNG",
        "colab_type": "code",
        "colab": {}
      },
      "source": [
        "X_test1.loc[X_test1['project_essay_3'].notna(), 'new_essay_policy'] = 0 \n",
        "X_test1.loc[X_test1['project_essay_3'].isna(), 'new_essay_policy'] = 1 \n",
        "X_test1.loc[X_test1['project_essay_3'].notna(), 'project_essay_1'] = X_test1.loc[X_test1['project_essay_3'].notna(), 'project_essay_1'] + ' ' + test.loc[X_test1['project_essay_3'].notna(), 'project_essay_2']\n",
        "X_test1.loc[X_test1['project_essay_3'].notna(), 'project_essay_2'] = X_test1.loc[X_test1['project_essay_3'].notna(), 'project_essay_3'] + ' ' + test.loc[X_test1['project_essay_3'].notna(), 'project_essay_4']\n",
        "\n"
      ],
      "execution_count": 0,
      "outputs": []
    },
    {
      "cell_type": "code",
      "metadata": {
        "id": "_UAhkkUANZVl",
        "colab_type": "code",
        "outputId": "f4813eb3-574e-44bf-feb6-d7142c3e0a7e",
        "colab": {
          "base_uri": "https://localhost:8080/",
          "height": 157
        }
      },
      "source": [
        "test1.columns"
      ],
      "execution_count": 0,
      "outputs": [
        {
          "output_type": "execute_result",
          "data": {
            "text/plain": [
              "Index(['id', 'teacher_id', 'teacher_prefix', 'school_state',\n",
              "       'project_submitted_datetime', 'project_grade_category',\n",
              "       'project_subject_categories', 'project_subject_subcategories',\n",
              "       'project_title', 'project_essay_1', 'project_essay_2',\n",
              "       'project_essay_3', 'project_essay_4', 'project_resource_summary',\n",
              "       'teacher_number_of_previously_posted_projects', 'total_price',\n",
              "       'highest_single_item_price', 'new_essay_policy'],\n",
              "      dtype='object')"
            ]
          },
          "metadata": {
            "tags": []
          },
          "execution_count": 38
        }
      ]
    },
    {
      "cell_type": "code",
      "metadata": {
        "id": "ZsA5rP7nIeNI",
        "colab_type": "code",
        "colab": {}
      },
      "source": [
        "X_train1.drop(['project_essay_3', 'project_essay_4'], axis=1, inplace=True)\n",
        "X_test1.drop(['project_essay_3', 'project_essay_4'], axis=1, inplace=True)"
      ],
      "execution_count": 0,
      "outputs": []
    },
    {
      "cell_type": "code",
      "metadata": {
        "id": "TcIgafbfIeNO",
        "colab_type": "code",
        "colab": {}
      },
      "source": [
        "X_train1['project_essay_1'] = X_train1['project_essay_1'].apply(lambda x: x.replace('\\\\r', ' ').replace('\\\\n', ' ').replace('\\\\', ' ').replace('  ', ' '))\n",
        "X_train1['project_essay_2'] = X_train1['project_essay_2'].apply(lambda x: x.replace('\\\\r', ' ').replace('\\\\n', ' ').replace('\\\\', ' ').replace('  ', ' '))\n"
      ],
      "execution_count": 0,
      "outputs": []
    },
    {
      "cell_type": "code",
      "metadata": {
        "id": "7B1CfqeNIeNR",
        "colab_type": "code",
        "colab": {}
      },
      "source": [
        "X_test1['project_essay_1'] = X_test1['project_essay_1'].apply(lambda x: x.replace('\\\\r', ' ').replace('\\\\n', ' ').replace('\\\\', ' ').replace('  ', ' '))\n",
        "X_test1['project_essay_2'] = X_test1['project_essay_2'].apply(lambda x: x.replace('\\\\r', ' ').replace('\\\\n', ' ').replace('\\\\', ' ').replace('  ', ' '))\n"
      ],
      "execution_count": 0,
      "outputs": []
    },
    {
      "cell_type": "markdown",
      "metadata": {
        "id": "aWpeIPtJIeNU",
        "colab_type": "text"
      },
      "source": [
        "## tokenize lemmatize"
      ]
    },
    {
      "cell_type": "code",
      "metadata": {
        "id": "HQI37ejVIeNV",
        "colab_type": "code",
        "colab": {}
      },
      "source": [
        "from nltk import sent_tokenize, word_tokenize\n",
        "\n",
        "'''\n",
        "def count_sent(text):\n",
        "    if text == \"nan\" or not text:\n",
        "        return 0\n",
        "    sents = sent_tokenize(text)\n",
        "    return len(sents)\n",
        "def count_word(text):\n",
        "    if text=='nan' or not text:\n",
        "        return 0\n",
        "    words=word_tokenize(text)\n",
        "    return len(words)\n",
        "# these two functions are not used\n",
        "'''\n",
        "X_train1['word_length_title'] = X_train1['project_title'].apply(lambda x: len(x.split()))\n",
        "X_train1['word_project_essay_1'] = X_train1['project_essay_1'].apply(lambda x: len(x.split()))\n",
        "X_train1['word_project_essay_2'] = X_train1['project_essay_2'].apply(lambda x: len(x.split()))"
      ],
      "execution_count": 0,
      "outputs": []
    },
    {
      "cell_type": "code",
      "metadata": {
        "id": "wJzqhP0rIeNX",
        "colab_type": "code",
        "colab": {}
      },
      "source": [
        "X_test1['word_length_title'] = X_test1['project_title'].apply(lambda x: len(x.split()))\n",
        "X_test1['word_project_essay_1'] = X_test1['project_essay_1'].apply(lambda x: len(x.split()))\n",
        "X_test1['word_project_essay_2'] = X_test1['project_essay_2'].apply(lambda x: len(x.split()))"
      ],
      "execution_count": 0,
      "outputs": []
    },
    {
      "cell_type": "code",
      "metadata": {
        "id": "wo0qG7_yQK9u",
        "colab_type": "code",
        "colab": {}
      },
      "source": [
        "X_train_backed = X_train1\n",
        "X_test1_backed = X_test1"
      ],
      "execution_count": 0,
      "outputs": []
    },
    {
      "cell_type": "code",
      "metadata": {
        "id": "rZsTubo7QUZF",
        "colab_type": "code",
        "colab": {}
      },
      "source": [
        "X_test1 = X_test1_backed\n",
        "X_train1 = X_train_backed"
      ],
      "execution_count": 0,
      "outputs": []
    },
    {
      "cell_type": "markdown",
      "metadata": {
        "id": "YBNEgJZ6IeNd",
        "colab_type": "text"
      },
      "source": [
        "## get sentiment features "
      ]
    },
    {
      "cell_type": "code",
      "metadata": {
        "id": "V-QLVeJvIeNe",
        "colab_type": "code",
        "colab": {}
      },
      "source": [
        "# functions to get polatiy and subjectivity\n",
        "def get_polarity(text):\n",
        "    textblob = TextBlob(text)\n",
        "    pol = textblob.sentiment.polarity\n",
        "    return round(pol,3)\n",
        "\n",
        "def get_subjectivity(text):\n",
        "    textblob = TextBlob(text)\n",
        "    subj = textblob.sentiment.subjectivity\n",
        "    return round(subj,3)\n",
        "X_train1['title_polarity'] = X_train1['project_title'].apply(get_polarity)\n",
        "X_train1['title_subjectivity'] = X_train1['project_title'].apply(get_subjectivity)\n",
        "X_train1['essay_1_polarity'] = X_train1['project_essay_1'].apply(get_polarity)\n",
        "X_train1['essay_1_subjectivity'] = X_train1['project_essay_1'].apply(get_subjectivity)\n",
        "X_train1['essay_2_polarity'] = X_train1['project_essay_2'].apply(get_polarity)\n",
        "X_train1['essay_2_subjectivity'] = X_train1['project_essay_2'].apply(get_subjectivity)\n"
      ],
      "execution_count": 0,
      "outputs": []
    },
    {
      "cell_type": "code",
      "metadata": {
        "id": "K6BmN83fIeNj",
        "colab_type": "code",
        "colab": {}
      },
      "source": [
        "X_test1['title_polarity'] = X_test1['project_title'].apply(get_polarity)\n",
        "X_test1['title_subjectivity'] = X_test1['project_title'].apply(get_subjectivity)\n",
        "X_test1['essay_1_polarity'] = X_test1['project_essay_1'].apply(get_polarity)\n",
        "X_test1['essay_1_subjectivity'] = X_test1['project_essay_1'].apply(get_subjectivity)\n",
        "X_test1['essay_2_polarity'] = X_test1['project_essay_2'].apply(get_polarity)\n",
        "X_test1['essay_2_subjectivity'] = X_test1['project_essay_2'].apply(get_subjectivity)"
      ],
      "execution_count": 0,
      "outputs": []
    },
    {
      "cell_type": "code",
      "metadata": {
        "id": "LWbEbiEIIeNl",
        "colab_type": "code",
        "colab": {}
      },
      "source": [
        "\n",
        "X_train1.to_csv(\"DonorChoose_processed_train.csv\")\n",
        "X_test1.to_csv(\"DonorChoose_processed_test.csv\")"
      ],
      "execution_count": 0,
      "outputs": []
    },
    {
      "cell_type": "code",
      "metadata": {
        "id": "PQKVAGalIeNn",
        "colab_type": "code",
        "colab": {}
      },
      "source": [
        "from nltk.corpus import stopwords\n",
        "def text_process(mess):\n",
        "    \"\"\"\n",
        "    Takes in a string of text, then performs the following:\n",
        "    1. Remove all punctuation\n",
        "    2. Remove all stopwords\n",
        "    3. Returns a list of the cleaned text\n",
        "    \"\"\"\n",
        "    # Check characters to see if they are in punctuation\n",
        "    nopunc = [char for char in mess if char not in string.punctuation]\n",
        "\n",
        "    # Join the characters again to form the string.\n",
        "    nopunc = ''.join(nopunc)\n",
        "    \n",
        "    # Now just remove any stopwords\n",
        "    return [word for word in nopunc.split() if word.lower() not in stopwords.words('english')]"
      ],
      "execution_count": 0,
      "outputs": []
    },
    {
      "cell_type": "code",
      "metadata": {
        "id": "YzPKgNYuIeNr",
        "colab_type": "code",
        "outputId": "0d4fb57e-31dc-4981-a28c-ecf0162964b1",
        "colab": {
          "base_uri": "https://localhost:8080/",
          "height": 70
        }
      },
      "source": [
        "import gc\n",
        "import tqdm\n",
        "import nltk\n",
        "nltk.download(\"punkt\")"
      ],
      "execution_count": 0,
      "outputs": [
        {
          "output_type": "stream",
          "text": [
            "[nltk_data] Downloading package punkt to /root/nltk_data...\n",
            "[nltk_data]   Unzipping tokenizers/punkt.zip.\n"
          ],
          "name": "stdout"
        },
        {
          "output_type": "execute_result",
          "data": {
            "text/plain": [
              "True"
            ]
          },
          "metadata": {
            "tags": []
          },
          "execution_count": 20
        }
      ]
    },
    {
      "cell_type": "code",
      "metadata": {
        "id": "VEjAvgBWIeNu",
        "colab_type": "code",
        "colab": {}
      },
      "source": [
        "def tokenize_sentences(sentences, words_dict):\n",
        "    tokenized_sentences = []\n",
        "    for sentence in tqdm.tqdm(sentences):\n",
        "        if hasattr(sentence, \"decode\"):\n",
        "            sentence = sentence.decode(\"utf-8\")\n",
        "        tokens = nltk.tokenize.word_tokenize(sentence)\n",
        "        result = []\n",
        "        for word in tokens:\n",
        "            word = word.lower()\n",
        "            if word not in words_dict:\n",
        "                words_dict[word] = len(words_dict)\n",
        "            word_index = words_dict[word]\n",
        "            result.append(word_index)\n",
        "        tokenized_sentences.append(result)\n",
        "    return tokenized_sentences, words_dict\n",
        "#embedding\n",
        "def read_embedding_list(file_path):\n",
        "    embedding_word_dict = {}\n",
        "    embedding_list = []\n",
        "    f = open(file_path, encoding=\"utf8\")\n",
        "    #f = open(file_path)\n",
        "    for index, line in enumerate(f):\n",
        "        if index == 0:\n",
        "            continue\n",
        "        values = line.split()\n",
        "        word = values[0]\n",
        "        try:\n",
        "            coefs = np.asarray(values[1:], dtype='float32')\n",
        "        except:\n",
        "            continue\n",
        "        embedding_list.append(coefs)\n",
        "        embedding_word_dict[word] = len(embedding_word_dict)\n",
        "    f.close()\n",
        "    embedding_list = np.array(embedding_list)\n",
        "    return embedding_list, embedding_word_dict\n",
        "\n",
        "def clear_embedding_list(embedding_list, embedding_word_dict, words_dict):\n",
        "    cleared_embedding_list = []\n",
        "    cleared_embedding_word_dict = {}\n",
        "\n",
        "    for word in words_dict:\n",
        "        if word not in embedding_word_dict:\n",
        "            continue\n",
        "        word_id = embedding_word_dict[word]\n",
        "        row = embedding_list[word_id]\n",
        "        cleared_embedding_list.append(row)\n",
        "        cleared_embedding_word_dict[word] = len(cleared_embedding_word_dict)\n",
        "\n",
        "    return cleared_embedding_list, cleared_embedding_word_dict\n",
        "\n",
        "def convert_tokens_to_ids(tokenized_sentences, words_list, embedding_word_dict, sentences_length):\n",
        "    words_train = []\n",
        "\n",
        "    for sentence in tokenized_sentences:\n",
        "        current_words = []\n",
        "        for word_index in sentence:\n",
        "            word = words_list[word_index]\n",
        "            word_id = embedding_word_dict.get(word, len(embedding_word_dict) - 2)\n",
        "            current_words.append(word_id)\n",
        "\n",
        "        if len(current_words) >= sentences_length:\n",
        "            current_words = current_words[:sentences_length]\n",
        "        else:\n",
        "            current_words += [len(embedding_word_dict) - 1] * (sentences_length - len(current_words))\n",
        "        words_train.append(current_words)\n",
        "    return words_train\n",
        "\n"
      ],
      "execution_count": 0,
      "outputs": []
    },
    {
      "cell_type": "code",
      "metadata": {
        "id": "MF9Hpk_zc9ts",
        "colab_type": "code",
        "outputId": "4b3e136a-3ad4-4ca4-c3f0-ce9445498dae",
        "colab": {
          "base_uri": "https://localhost:8080/",
          "height": 81
        }
      },
      "source": [
        "from keras.callbacks import Callback, EarlyStopping, ModelCheckpoint\n",
        "from keras.engine import Layer\n",
        "from keras.layers import Activation, Add, Bidirectional, Conv1D, Dense, Dropout, Embedding, Flatten\n",
        "from keras import backend as K\n",
        "from keras.layers import concatenate, GRU, Input,  LSTM, MaxPooling1D\n",
        "from keras.layers import GlobalAveragePooling1D,  GlobalMaxPooling1D, SpatialDropout1D\n",
        "from keras.models import Model\n",
        "from keras.optimizers import Adam\n",
        "from keras.preprocessing import text, sequence\n",
        "from sklearn.metrics import accuracy_score, roc_auc_score, log_loss\n",
        "from sklearn.model_selection import train_test_split\n",
        "from keras import initializers, regularizers, constraints, optimizers, layers, callbacks\n",
        "\n",
        "gru_len = 128\n",
        "Routings = 5\n",
        "Num_capsule = 10\n",
        "Dim_capsule = 16\n",
        "dropout_p = 0.3\n",
        "rate_drop_dense = 0.3\n",
        "\n",
        "def squash(x, axis=-1):\n",
        "    s_squared_norm = K.sum(K.square(x), axis, keepdims=True)\n",
        "    scale = K.sqrt(s_squared_norm + K.epsilon())\n",
        "    return x / scale\n",
        "\n",
        "# capsule layer\n",
        "\n",
        "class Capsule(Layer):\n",
        "    def __init__(self, num_capsule, dim_capsule, routings=3, kernel_size=(9, 1), share_weights=True,\n",
        "                 activation='default', **kwargs):\n",
        "        super(Capsule, self).__init__(**kwargs)\n",
        "        self.num_capsule = num_capsule\n",
        "        self.dim_capsule = dim_capsule\n",
        "        self.routings = routings\n",
        "        self.kernel_size = kernel_size\n",
        "        self.share_weights = share_weights\n",
        "        if activation == 'default':\n",
        "            self.activation = squash\n",
        "        else:\n",
        "            self.activation = Activation(activation)\n",
        "\n",
        "    def build(self, input_shape):\n",
        "        super(Capsule, self).build(input_shape)\n",
        "        input_dim_capsule = input_shape[-1]\n",
        "        if self.share_weights:\n",
        "            self.W = self.add_weight(name='capsule_kernel',\n",
        "                                     shape=(1, input_dim_capsule,\n",
        "                                            self.num_capsule * self.dim_capsule),\n",
        "                                     # shape=self.kernel_size,\n",
        "                                     initializer='glorot_uniform',\n",
        "                                     trainable=True)\n",
        "        else:\n",
        "            input_num_capsule = input_shape[-2]\n",
        "            self.W = self.add_weight(name='capsule_kernel',\n",
        "                                     shape=(input_num_capsule,\n",
        "                                            input_dim_capsule,\n",
        "                                            self.num_capsule * self.dim_capsule),\n",
        "                                     initializer='glorot_uniform',\n",
        "                                     trainable=True)\n",
        "\n",
        "    def call(self, u_vecs):\n",
        "        if self.share_weights:\n",
        "            u_hat_vecs = K.conv1d(u_vecs, self.W)\n",
        "        else:\n",
        "            u_hat_vecs = K.local_conv1d(u_vecs, self.W, [1], [1])\n",
        "\n",
        "        batch_size = K.shape(u_vecs)[0]\n",
        "        input_num_capsule = K.shape(u_vecs)[1]\n",
        "        u_hat_vecs = K.reshape(u_hat_vecs, (batch_size, input_num_capsule,\n",
        "                                            self.num_capsule, self.dim_capsule))\n",
        "        u_hat_vecs = K.permute_dimensions(u_hat_vecs, (0, 2, 1, 3))\n",
        "        # final u_hat_vecs.shape = [None, num_capsule, input_num_capsule, dim_capsule]\n",
        "\n",
        "        b = K.zeros_like(u_hat_vecs[:, :, :, 0])  # shape = [None, num_capsule, input_num_capsule]\n",
        "        for i in range(self.routings):\n",
        "            b = K.permute_dimensions(b, (0, 2, 1))  # shape = [None, input_num_capsule, num_capsule]\n",
        "            c = K.softmax(b)\n",
        "            c = K.permute_dimensions(c, (0, 2, 1))\n",
        "            b = K.permute_dimensions(b, (0, 2, 1))\n",
        "            outputs = self.activation(K.batch_dot(c, u_hat_vecs, [2, 2]))\n",
        "            if i < self.routings - 1:\n",
        "                b = K.batch_dot(outputs, u_hat_vecs, [2, 3])\n",
        "\n",
        "        return outputs\n",
        "\n",
        "    def compute_output_shape(self, input_shape):\n",
        "        return (None, self.num_capsule, self.dim_capsule)"
      ],
      "execution_count": 0,
      "outputs": [
        {
          "output_type": "stream",
          "text": [
            "Using TensorFlow backend.\n"
          ],
          "name": "stderr"
        },
        {
          "output_type": "display_data",
          "data": {
            "text/html": [
              "<p style=\"color: red;\">\n",
              "The default version of TensorFlow in Colab will soon switch to TensorFlow 2.x.<br>\n",
              "We recommend you <a href=\"https://www.tensorflow.org/guide/migrate\" target=\"_blank\">upgrade</a> now \n",
              "or ensure your notebook will continue to use TensorFlow 1.x via the <code>%tensorflow_version 1.x</code> magic:\n",
              "<a href=\"https://colab.research.google.com/notebooks/tensorflow_version.ipynb\" target=\"_blank\">more info</a>.</p>\n"
            ],
            "text/plain": [
              "<IPython.core.display.HTML object>"
            ]
          },
          "metadata": {
            "tags": []
          }
        }
      ]
    },
    {
      "cell_type": "code",
      "metadata": {
        "id": "pmti9f2GIeN5",
        "colab_type": "code",
        "colab": {}
      },
      "source": [
        "UNKNOWN_WORD = \"_UNK_\"\n",
        "END_WORD = \"_END_\"\n",
        "NAN_WORD = \"_NAN_\"\n",
        "CLASSES = [\"project_is_approved\"]"
      ],
      "execution_count": 0,
      "outputs": []
    },
    {
      "cell_type": "code",
      "metadata": {
        "id": "GeQHk71iIeN8",
        "colab_type": "code",
        "colab": {}
      },
      "source": [
        "X_train1['application_text']=X_train1.apply(lambda row: ' '.join([\n",
        "    str(row['project_title']),\n",
        "    str(row['project_essay_1']),\n",
        "    str(row['project_essay_2']),   \n",
        "    ]),axis=1)"
      ],
      "execution_count": 0,
      "outputs": []
    },
    {
      "cell_type": "code",
      "metadata": {
        "id": "q9LR5rP7IeN-",
        "colab_type": "code",
        "colab": {}
      },
      "source": [
        "X_test1['application_text']=X_test1.apply(lambda row: ' '.join([\n",
        "    str(row['project_title']),\n",
        "    str(row['project_essay_1']),\n",
        "    str(row['project_essay_2']),   \n",
        "    ]),axis=1)"
      ],
      "execution_count": 0,
      "outputs": []
    },
    {
      "cell_type": "code",
      "metadata": {
        "id": "Gmur97ObIeOD",
        "colab_type": "code",
        "outputId": "4906312c-b71b-464c-a5d0-9dd4c0c215a6",
        "colab": {
          "base_uri": "https://localhost:8080/",
          "height": 52
        }
      },
      "source": [
        "\n",
        "print(\"Loading data...\")\n",
        "X_train1_data = X_train1\n",
        "list_sentences_X_train1 = X_train1_data[\"application_text\"].fillna(NAN_WORD).values\n",
        "X_test1_data = X_test1\n",
        "list_sentences_X_test1 = X_test1_data[\"application_text\"].fillna(NAN_WORD).values\n",
        "\n",
        "y_train = y_train.values\n",
        "print(\"Done.\")"
      ],
      "execution_count": 0,
      "outputs": [
        {
          "output_type": "stream",
          "text": [
            "Loading data...\n",
            "Done.\n"
          ],
          "name": "stdout"
        }
      ]
    },
    {
      "cell_type": "code",
      "metadata": {
        "id": "CSAHBqIFIeOF",
        "colab_type": "code",
        "outputId": "fac229ab-061f-44aa-a96f-59f319d5ae7a",
        "colab": {
          "base_uri": "https://localhost:8080/",
          "height": 87
        }
      },
      "source": [
        "print(\"Tokenizing sentences in train set...\")\n",
        "tokenized_sentences_train, words_dict = tokenize_sentences(list_sentences_X_train1, {})\n",
        "print(\"Tokenizing sentences in test set...\")\n",
        "tokenized_sentences_test, words_dict = tokenize_sentences(list_sentences_X_test1, words_dict)"
      ],
      "execution_count": 0,
      "outputs": [
        {
          "output_type": "stream",
          "text": [
            "  0%|          | 37/182080 [00:00<08:20, 363.58it/s]"
          ],
          "name": "stderr"
        },
        {
          "output_type": "stream",
          "text": [
            "Tokenizing sentences in train set...\n"
          ],
          "name": "stdout"
        },
        {
          "output_type": "stream",
          "text": [
            "100%|██████████| 182080/182080 [07:11<00:00, 421.60it/s]\n",
            "  0%|          | 42/78035 [00:00<03:07, 416.22it/s]"
          ],
          "name": "stderr"
        },
        {
          "output_type": "stream",
          "text": [
            "Tokenizing sentences in test set...\n"
          ],
          "name": "stdout"
        },
        {
          "output_type": "stream",
          "text": [
            "100%|██████████| 78035/78035 [02:59<00:00, 433.76it/s]\n"
          ],
          "name": "stderr"
        }
      ]
    },
    {
      "cell_type": "code",
      "metadata": {
        "id": "FXu_ZdqkIeON",
        "colab_type": "code",
        "outputId": "564587a0-15cc-467d-d8ec-9ca2a4ff1cb2",
        "colab": {
          "base_uri": "https://localhost:8080/",
          "height": 52
        }
      },
      "source": [
        "len(words_dict)\n",
        "# Embedding\n",
        "\n",
        "embedding_path = \"/content/gdrive/Shared drives/Predictive Analytics Project/Feature Engineering/crawl-300d-2M.vec\"\n",
        "\n",
        "#embedding_path = \"F:/Deep Learning 2018/DonorsChoose/embeddings_small.vec\"\n",
        "\n",
        "words_dict[UNKNOWN_WORD] = len(words_dict)\n",
        "print(\"Loading embeddings...\")\n",
        "embedding_list, embedding_word_dict = read_embedding_list(embedding_path)\n",
        "embedding_size = len(embedding_list[0])\n",
        "print(\"Done\")"
      ],
      "execution_count": 0,
      "outputs": [
        {
          "output_type": "stream",
          "text": [
            "Loading embeddings...\n",
            "Done\n"
          ],
          "name": "stdout"
        }
      ]
    },
    {
      "cell_type": "code",
      "metadata": {
        "id": "uLTl99svIeOS",
        "colab_type": "code",
        "colab": {}
      },
      "source": [
        "batch_size = 256\n",
        "recurrent_units = 64\n",
        "dropout_rate = 0.3 \n",
        "dense_size = 32\n",
        "sentences_length = 320\n",
        "fold_count = 5"
      ],
      "execution_count": 0,
      "outputs": []
    },
    {
      "cell_type": "code",
      "metadata": {
        "id": "KUjx5wePIeOV",
        "colab_type": "code",
        "outputId": "ea4a6a3e-2eaa-453e-9b28-46d0356e1f0b",
        "colab": {
          "base_uri": "https://localhost:8080/",
          "height": 52
        }
      },
      "source": [
        "print(\"Preparing data...\")\n",
        "embedding_list, embedding_word_dict = clear_embedding_list(embedding_list, embedding_word_dict, words_dict)\n",
        "\n",
        "embedding_word_dict[UNKNOWN_WORD] = len(embedding_word_dict)\n",
        "embedding_list.append([0.] * embedding_size)\n",
        "embedding_word_dict[END_WORD] = len(embedding_word_dict)\n",
        "embedding_list.append([-1.] * embedding_size)\n",
        "\n",
        "embedding_matrix = np.array(embedding_list)\n",
        "\n",
        "id_to_word = dict((id, word) for word, id in words_dict.items())\n",
        "train_list_of_token_ids = convert_tokens_to_ids(\n",
        "    tokenized_sentences_train,\n",
        "    id_to_word,\n",
        "    embedding_word_dict,\n",
        "    sentences_length)\n",
        "test_list_of_token_ids = convert_tokens_to_ids(\n",
        "    tokenized_sentences_test,\n",
        "    id_to_word,\n",
        "    embedding_word_dict,\n",
        "    sentences_length)\n",
        "X_train_text = np.array(train_list_of_token_ids)\n",
        "X_test_text = np.array(test_list_of_token_ids)\n",
        "print(\"Done\")"
      ],
      "execution_count": 0,
      "outputs": [
        {
          "output_type": "stream",
          "text": [
            "Preparing data...\n",
            "Done\n"
          ],
          "name": "stdout"
        }
      ]
    },
    {
      "cell_type": "markdown",
      "metadata": {
        "id": "PULVPDe4IeOd",
        "colab_type": "text"
      },
      "source": [
        "## save intermediate model "
      ]
    },
    {
      "cell_type": "code",
      "metadata": {
        "id": "lQCCV5uVIeOe",
        "colab_type": "code",
        "outputId": "1528500a-e97e-4ce5-d117-87aaeb1028a7",
        "colab": {
          "base_uri": "https://localhost:8080/",
          "height": 34
        }
      },
      "source": [
        "print(len(words_dict))\n",
        "\n",
        "import pickle\n",
        "\n",
        "\n",
        "def save_obj(obj, fname):\n",
        "    with open(fname, 'wb') as f:\n",
        "        pickle.dump(obj, f, pickle.HIGHEST_PROTOCOL)\n",
        "\n",
        "\n",
        "def load_obj(fname):\n",
        "    with open(fname, 'rb') as f:\n",
        "        return pickle.load(f)\n",
        "    \n",
        "save_obj(X_train_text,'X_train_text.pkl')\n",
        "X_train1.to_csv('DonorChoose_processed_train_combined_text.csv')\n"
      ],
      "execution_count": 0,
      "outputs": [
        {
          "output_type": "stream",
          "text": [
            "142444\n"
          ],
          "name": "stdout"
        }
      ]
    },
    {
      "cell_type": "code",
      "metadata": {
        "id": "4ytCN9iwIeOj",
        "colab_type": "code",
        "colab": {}
      },
      "source": [
        "save_obj(X_test_text,'X_test_text.pkl')\n",
        "X_test1.to_csv('DonorChoose_processed_test_combined_text.csv')"
      ],
      "execution_count": 0,
      "outputs": []
    },
    {
      "cell_type": "code",
      "metadata": {
        "id": "nyksMdOBIeOn",
        "colab_type": "code",
        "colab": {}
      },
      "source": [
        "from sklearn.base import BaseEstimator, TransformerMixin\n",
        "from sklearn.preprocessing import StandardScaler\n",
        "\n",
        "class add_features(BaseEstimator, TransformerMixin):\n",
        "    \"\"\"Takes in dataframe, extracts road name column, outputs average word length\"\"\"\n",
        "\n",
        "    def __init__(self):\n",
        "        pass #self.vars = vars  # e.g. pass in a column name to extract\n",
        "\n",
        "    def convert_log(self, previous_proposals):#passed in is a Series?no datapoint\n",
        "        #return np.mean([len(word) for word in name.split()])\n",
        "        result=np.log(1+float(previous_proposals))\n",
        "        #print(result)\n",
        "        return result\n",
        "\n",
        "    def transform(self, df, y=None):\n",
        "        \"\"\"The workhorse of this feature extractor\"\"\"\n",
        "        \"\"\"features about reject pressure. project viewers need to reject certain percentage\n",
        "        of proposals due to limited resources. \n",
        "        This is probably a better way to use datetime info\"\"\"\n",
        "        pd.options.mode.chained_assignment = None#ignore SettingWithCopyWarning because it's false positive, everything I do here is on a copy and I return a copy. if I change the names of df to df1,df2 etc, the warning should be gone.\n",
        "\n",
        "        df.loc[:,'reject_pressure_by_funds']=df.groupby('project_submitted_datetime')['total_price'].transform(lambda x: x.sum())\n",
        "        df.loc[:,'reject_pressure_by_projects']=df.groupby('project_submitted_datetime')['total_price'].transform(lambda x: x.count())\n",
        "        df.loc[:,'log_previously_posted_projects']=df['teacher_number_of_previously_posted_projects'].apply(self.convert_log)\n",
        "        #create DataFrames that contain categorical information\n",
        "        prefix = pd.get_dummies(df['teacher_prefix'],drop_first=False)\n",
        "        state=pd.get_dummies(df['school_state'],drop_first=False)\n",
        "        grade= pd.get_dummies(df['project_grade_category'],drop_first=False)\n",
        "        category= pd.get_dummies(df['project_subject_categories'],drop_first=False)\n",
        "        #sub_category=pd.get_dummies(df['project_subject_subcategories'],drop_first=False)\n",
        "        missing_cols_main=set(complete_prefix+complete_state+complete_grade+complete_category)-(set(list(prefix))|set(list(state))|set(list(grade))|set(list(category)))\n",
        "        #missing_cols_extra=set(complete_sub_category)-set(list(sub_category))\n",
        "        #set(complete_category)&set(complete_sub_category) not empty\n",
        "        #print (missing_cols_main)\n",
        "        #print (missing_cols_extra)\n",
        "        df=pd.concat([df,prefix],axis=1)\n",
        "        df=pd.concat([df,state],axis=1)\n",
        "        df=pd.concat([df,grade],axis=1)\n",
        "        df=pd.concat([df,category],axis=1)\n",
        "        #df=pd.concat([df,sub_category],axis=1)\n",
        "        for c1 in missing_cols_main:\n",
        "            df.loc[:,c1] = 0\n",
        "        #for c2 in missing_cols_extra:\n",
        "        #    df.loc[:,c2] = 0\n",
        "        #del prefix,state,grade,category#,sub_category\n",
        "        #del missing_cols_main\n",
        "        #del missing_cols_extra\n",
        "\n",
        "        to_be_dropped_sure=['id',\n",
        "         'teacher_id',\n",
        "         'teacher_prefix',\n",
        "         'school_state',\n",
        "         'project_submitted_datetime',\n",
        "         'project_grade_category',\n",
        "         'project_subject_categories',\n",
        "         'project_subject_subcategories',\n",
        "         'project_title',\n",
        "         'project_essay_1',\n",
        "         'project_essay_2',\n",
        "         'project_resource_summary',\n",
        "         'teacher_number_of_previously_posted_projects','application_text']\n",
        "        to_be_dropped=to_be_dropped_sure#+complete_prefix+complete_state+complete_grade+complete_category#+complete_sub_category\n",
        "        #print(df.drop(to_be_dropped,axis=1).head(1))\n",
        "        df.drop(to_be_dropped,axis=1,inplace=True)\n",
        "        return df\n",
        "\n",
        "    def fit(self, df, y=None,**fit_params):\n",
        "        \"\"\"Returns `self` unless something different happens in train and test\"\"\"\n",
        "        return self\n"
      ],
      "execution_count": 0,
      "outputs": []
    },
    {
      "cell_type": "code",
      "metadata": {
        "id": "cvFFsG0aIeOr",
        "colab_type": "code",
        "colab": {}
      },
      "source": [
        "complete_prefix=list(X_train1['teacher_prefix'].dropna(axis=0, how='any').unique())\n",
        "complete_state=list(X_train1['school_state'].unique())\n",
        "complete_grade=list(X_train1['project_grade_category'].unique())\n",
        "complete_category=list(X_train1['project_subject_categories'].unique())#51 categories\n",
        "#complete_sub_category=list(X_train1['project_subject_subcategories'].unique())#407 sub-categories\n",
        "\n",
        "X_train_nontextpart=StandardScaler().fit_transform(add_features().transform(X_train1))"
      ],
      "execution_count": 0,
      "outputs": []
    },
    {
      "cell_type": "code",
      "metadata": {
        "id": "Bd6mBVedIeOt",
        "colab_type": "code",
        "colab": {}
      },
      "source": [
        "complete_prefix=list(X_test1['teacher_prefix'].dropna(axis=0, how='any').unique())\n",
        "complete_state=list(X_test1['school_state'].unique())\n",
        "complete_grade=list(X_test1['project_grade_category'].unique())\n",
        "complete_category=list(X_test1['project_subject_categories'].unique())#51 categories\n",
        "#complete_sub_category=list(X_test1['project_subject_subcategories'].unique())#407 sub-categories\n",
        "\n",
        "X_test_nontextpart=StandardScaler().fit_transform(add_features().transform(X_test1))"
      ],
      "execution_count": 0,
      "outputs": []
    },
    {
      "cell_type": "code",
      "metadata": {
        "id": "x2rL-0xDIeOw",
        "colab_type": "code",
        "outputId": "91fd7cfb-8178-4764-9a15-f68f56b47781",
        "colab": {
          "base_uri": "https://localhost:8080/",
          "height": 70
        }
      },
      "source": [
        "print(X_train_nontextpart.shape)\n",
        "print(X_train_text.shape)\n",
        "#print(X_test_nontextpart.shape)\n",
        "X_train_formodel=np.concatenate((X_train_nontextpart,X_train_text),axis=1)\n",
        "X_test_formodel=np.concatenate((X_test_nontextpart,X_test_text),axis=1)\n",
        "print(X_train_formodel.shape)"
      ],
      "execution_count": 0,
      "outputs": [
        {
          "output_type": "stream",
          "text": [
            "(182080, 126)\n",
            "(182080, 320)\n",
            "(182080, 446)\n"
          ],
          "name": "stdout"
        }
      ]
    },
    {
      "cell_type": "code",
      "metadata": {
        "id": "HK6h9qzgtnr6",
        "colab_type": "code",
        "colab": {}
      },
      "source": [
        "save_obj(X_train_nontextpart,'X_train_nontextpart.pkl')\n",
        "save_obj(X_train_text,'X_train_text.pkl')\n",
        "save_obj(X_test_nontextpart,'X_test_nontextpart.pkl')\n",
        "save_obj(X_test_text,'X_test_text.pkl')\n",
        "!cp X_train_nontextpart.pkl /content/gdrive/Shared\\ drives/Predictive\\ Analytics\\ Project/Data\n",
        "!cp X_train_text.pkl /content/gdrive/Shared\\ drives/Predictive\\ Analytics\\ Project/Data\n",
        "!cp X_test_nontextpart.pkl /content/gdrive/Shared\\ drives/Predictive\\ Analytics\\ Project/Data\n",
        "!cp X_test_text.pkl /content/gdrive/Shared\\ drives/Predictive\\ Analytics\\ Project/Data"
      ],
      "execution_count": 0,
      "outputs": []
    },
    {
      "cell_type": "code",
      "metadata": {
        "id": "DxAKJYfmsC3b",
        "colab_type": "code",
        "outputId": "303cbde0-7035-4835-89fb-a14876d0e243",
        "colab": {
          "base_uri": "https://localhost:8080/",
          "height": 238
        }
      },
      "source": [
        "X_train_nontextpart"
      ],
      "execution_count": 0,
      "outputs": [
        {
          "output_type": "execute_result",
          "data": {
            "text/plain": [
              "array([[ 0.64610151, -0.09245656,  0.19046393, ..., -0.05356856,\n",
              "        -0.01386579, -0.11036183],\n",
              "       [-0.26586957, -0.51578444,  0.19046393, ..., -0.05356856,\n",
              "        -0.01386579, -0.11036183],\n",
              "       [-0.13819654,  0.94966146,  0.19046393, ..., -0.05356856,\n",
              "        -0.01386579, -0.11036183],\n",
              "       ...,\n",
              "       [ 0.31981382,  0.2983377 ,  0.19046393, ..., -0.05356856,\n",
              "        -0.01386579, -0.11036183],\n",
              "       [-0.5615296 , -0.48406497,  0.19046393, ..., -0.05356856,\n",
              "        -0.01386579, -0.11036183],\n",
              "       [-0.37896756,  0.09971652, -5.25033804, ..., -0.05356856,\n",
              "        -0.01386579, -0.11036183]])"
            ]
          },
          "metadata": {
            "tags": []
          },
          "execution_count": 37
        }
      ]
    },
    {
      "cell_type": "code",
      "metadata": {
        "id": "sTbONrREIeOy",
        "colab_type": "code",
        "outputId": "81838f41-a6bb-4480-ad2f-ce856805b108",
        "colab": {
          "base_uri": "https://localhost:8080/",
          "height": 1000
        }
      },
      "source": [
        "def get_model(embedding_matrix, sequence_length, dropout_rate, recurrent_units, dense_size):\n",
        "    \n",
        "    nontext = Input(shape=[X_train_nontextpart.shape[1]], name=\"nontext\")\n",
        "    nontext1 = Dense(64, activation='relu')(nontext)\n",
        "    nontext1 = Dense(128, activation='relu')(nontext1) \n",
        "    \n",
        "    textpart = Input(shape=(sequence_length,),name=\"text\")\n",
        "    \n",
        "    embed_layer = Embedding(embedding_matrix.shape[0], embedding_matrix.shape[1],\n",
        "                                weights=[embedding_matrix], trainable=False)(textpart)\n",
        "    embed_layer = SpatialDropout1D(rate_drop_dense)(embed_layer)\n",
        "\n",
        "    x_text = Bidirectional(\n",
        "        GRU(gru_len, activation='relu', dropout=dropout_p, recurrent_dropout=dropout_p, return_sequences=True))(\n",
        "        embed_layer)\n",
        "    capsule = Capsule(num_capsule=Num_capsule, dim_capsule=Dim_capsule, routings=Routings,\n",
        "                      share_weights=True)(x_text)\n",
        "    capsule = Flatten()(capsule)\n",
        "    capsule = Dropout(dropout_p)(capsule)\n",
        "    \n",
        "    X = concatenate([\n",
        "        nontext1,\n",
        "        capsule,\n",
        "    ])    \n",
        "    \n",
        "    output = Dense(1, activation='sigmoid')(X)\n",
        "    model = Model(inputs=[nontext, textpart], outputs=output)\n",
        "    model.compile(\n",
        "        loss='binary_crossentropy',\n",
        "        optimizer='adam',\n",
        "        metrics=['accuracy'])\n",
        "    return model\n",
        "\n",
        "model2=get_model(\n",
        "    embedding_matrix,\n",
        "    sentences_length,\n",
        "    dropout_rate,\n",
        "    recurrent_units,\n",
        "    dense_size)\n",
        "\n",
        "model2.summary()"
      ],
      "execution_count": 0,
      "outputs": [
        {
          "output_type": "stream",
          "text": [
            "WARNING:tensorflow:From /usr/local/lib/python3.6/dist-packages/keras/backend/tensorflow_backend.py:517: The name tf.placeholder is deprecated. Please use tf.compat.v1.placeholder instead.\n",
            "\n",
            "WARNING:tensorflow:From /usr/local/lib/python3.6/dist-packages/keras/backend/tensorflow_backend.py:74: The name tf.get_default_graph is deprecated. Please use tf.compat.v1.get_default_graph instead.\n",
            "\n",
            "WARNING:tensorflow:From /usr/local/lib/python3.6/dist-packages/keras/backend/tensorflow_backend.py:4138: The name tf.random_uniform is deprecated. Please use tf.random.uniform instead.\n",
            "\n",
            "WARNING:tensorflow:From /usr/local/lib/python3.6/dist-packages/keras/backend/tensorflow_backend.py:174: The name tf.get_default_session is deprecated. Please use tf.compat.v1.get_default_session instead.\n",
            "\n",
            "WARNING:tensorflow:From /usr/local/lib/python3.6/dist-packages/keras/backend/tensorflow_backend.py:181: The name tf.ConfigProto is deprecated. Please use tf.compat.v1.ConfigProto instead.\n",
            "\n",
            "WARNING:tensorflow:From /usr/local/lib/python3.6/dist-packages/keras/backend/tensorflow_backend.py:186: The name tf.Session is deprecated. Please use tf.compat.v1.Session instead.\n",
            "\n",
            "WARNING:tensorflow:From /usr/local/lib/python3.6/dist-packages/keras/backend/tensorflow_backend.py:190: The name tf.global_variables is deprecated. Please use tf.compat.v1.global_variables instead.\n",
            "\n",
            "WARNING:tensorflow:From /usr/local/lib/python3.6/dist-packages/keras/backend/tensorflow_backend.py:199: The name tf.is_variable_initialized is deprecated. Please use tf.compat.v1.is_variable_initialized instead.\n",
            "\n",
            "WARNING:tensorflow:From /usr/local/lib/python3.6/dist-packages/keras/backend/tensorflow_backend.py:206: The name tf.variables_initializer is deprecated. Please use tf.compat.v1.variables_initializer instead.\n",
            "\n",
            "WARNING:tensorflow:From /usr/local/lib/python3.6/dist-packages/keras/backend/tensorflow_backend.py:133: The name tf.placeholder_with_default is deprecated. Please use tf.compat.v1.placeholder_with_default instead.\n",
            "\n",
            "WARNING:tensorflow:From /usr/local/lib/python3.6/dist-packages/keras/backend/tensorflow_backend.py:3445: calling dropout (from tensorflow.python.ops.nn_ops) with keep_prob is deprecated and will be removed in a future version.\n",
            "Instructions for updating:\n",
            "Please use `rate` instead of `keep_prob`. Rate should be set to `rate = 1 - keep_prob`.\n",
            "WARNING:tensorflow:From /usr/local/lib/python3.6/dist-packages/keras/optimizers.py:790: The name tf.train.Optimizer is deprecated. Please use tf.compat.v1.train.Optimizer instead.\n",
            "\n",
            "WARNING:tensorflow:From /usr/local/lib/python3.6/dist-packages/keras/backend/tensorflow_backend.py:3376: The name tf.log is deprecated. Please use tf.math.log instead.\n",
            "\n",
            "WARNING:tensorflow:From /usr/local/lib/python3.6/dist-packages/tensorflow_core/python/ops/nn_impl.py:183: where (from tensorflow.python.ops.array_ops) is deprecated and will be removed in a future version.\n",
            "Instructions for updating:\n",
            "Use tf.where in 2.0, which has the same broadcast rule as np.where\n",
            "__________________________________________________________________________________________________\n",
            "Layer (type)                    Output Shape         Param #     Connected to                     \n",
            "==================================================================================================\n",
            "text (InputLayer)               (None, 320)          0                                            \n",
            "__________________________________________________________________________________________________\n",
            "embedding_1 (Embedding)         (None, 320, 300)     23672400    text[0][0]                       \n",
            "__________________________________________________________________________________________________\n",
            "spatial_dropout1d_1 (SpatialDro (None, 320, 300)     0           embedding_1[0][0]                \n",
            "__________________________________________________________________________________________________\n",
            "bidirectional_1 (Bidirectional) (None, 320, 256)     329472      spatial_dropout1d_1[0][0]        \n",
            "__________________________________________________________________________________________________\n",
            "nontext (InputLayer)            (None, 126)          0                                            \n",
            "__________________________________________________________________________________________________\n",
            "capsule_1 (Capsule)             (None, 10, 16)       40960       bidirectional_1[0][0]            \n",
            "__________________________________________________________________________________________________\n",
            "dense_1 (Dense)                 (None, 64)           8128        nontext[0][0]                    \n",
            "__________________________________________________________________________________________________\n",
            "flatten_1 (Flatten)             (None, 160)          0           capsule_1[0][0]                  \n",
            "__________________________________________________________________________________________________\n",
            "dense_2 (Dense)                 (None, 128)          8320        dense_1[0][0]                    \n",
            "__________________________________________________________________________________________________\n",
            "dropout_1 (Dropout)             (None, 160)          0           flatten_1[0][0]                  \n",
            "__________________________________________________________________________________________________\n",
            "concatenate_1 (Concatenate)     (None, 288)          0           dense_2[0][0]                    \n",
            "                                                                 dropout_1[0][0]                  \n",
            "__________________________________________________________________________________________________\n",
            "dense_3 (Dense)                 (None, 1)            289         concatenate_1[0][0]              \n",
            "==================================================================================================\n",
            "Total params: 24,059,569\n",
            "Trainable params: 387,169\n",
            "Non-trainable params: 23,672,400\n",
            "__________________________________________________________________________________________________\n"
          ],
          "name": "stdout"
        }
      ]
    },
    {
      "cell_type": "code",
      "metadata": {
        "id": "F_Tthvr6IeO2",
        "colab_type": "code",
        "outputId": "036499c4-de6e-4965-b1eb-6f80b4290d04",
        "colab": {
          "base_uri": "https://localhost:8080/",
          "height": 326
        }
      },
      "source": [
        "history_new=model2.fit([X_train_nontextpart, X_train_text], y_train, epochs=6, batch_size=256, validation_split=0.2, verbose=1)"
      ],
      "execution_count": 0,
      "outputs": [
        {
          "output_type": "stream",
          "text": [
            "WARNING:tensorflow:From /usr/local/lib/python3.6/dist-packages/keras/backend/tensorflow_backend.py:986: The name tf.assign_add is deprecated. Please use tf.compat.v1.assign_add instead.\n",
            "\n",
            "WARNING:tensorflow:From /usr/local/lib/python3.6/dist-packages/keras/backend/tensorflow_backend.py:973: The name tf.assign is deprecated. Please use tf.compat.v1.assign instead.\n",
            "\n",
            "Train on 145664 samples, validate on 36416 samples\n",
            "Epoch 1/6\n",
            "145664/145664 [==============================] - 717s 5ms/step - loss: 0.4023 - acc: 0.8483 - val_loss: 0.3708 - val_acc: 0.8542\n",
            "Epoch 2/6\n",
            "145664/145664 [==============================] - 709s 5ms/step - loss: 0.3735 - acc: 0.8531 - val_loss: 0.3629 - val_acc: 0.8573\n",
            "Epoch 3/6\n",
            "145664/145664 [==============================] - 706s 5ms/step - loss: 0.3649 - acc: 0.8552 - val_loss: 0.3590 - val_acc: 0.8591\n",
            "Epoch 4/6\n",
            "145664/145664 [==============================] - 704s 5ms/step - loss: 0.3591 - acc: 0.8566 - val_loss: 0.3590 - val_acc: 0.8580\n",
            "Epoch 5/6\n",
            "145664/145664 [==============================] - 707s 5ms/step - loss: 0.3545 - acc: 0.8585 - val_loss: 0.3589 - val_acc: 0.8581\n",
            "Epoch 6/6\n",
            "145664/145664 [==============================] - 700s 5ms/step - loss: 0.3505 - acc: 0.8598 - val_loss: 0.3580 - val_acc: 0.8575\n"
          ],
          "name": "stdout"
        }
      ]
    },
    {
      "cell_type": "code",
      "metadata": {
        "id": "2AfYlsW27LMz",
        "colab_type": "code",
        "outputId": "e188d0be-e8c8-4697-9657-6ebe29c319c7",
        "colab": {
          "base_uri": "https://localhost:8080/",
          "height": 281
        }
      },
      "source": [
        "import matplotlib.pyplot as plt\n",
        "epochs=range(1,7)\n",
        "plt.subplot(211)\n",
        "plt.title('Loss')\n",
        "plt.plot(epochs, history_new.history['loss'], label='train')\n",
        "plt.plot(epochs, history_new.history['val_loss'], label='test')\n",
        "plt.legend()\n",
        "# plot accuracy during training\n",
        "plt.subplot(212)\n",
        "plt.title('Accuracy')\n",
        "plt.plot(epochs, history_new.history['acc'], label='train')\n",
        "plt.plot(epochs, history_new.history['val_acc'], label='test')\n",
        "plt.legend()\n",
        "plt.show()"
      ],
      "execution_count": 0,
      "outputs": [
        {
          "output_type": "display_data",
          "data": {
            "image/png": "[encoded data removed]",
            "text/plain": [
              "<Figure size 432x288 with 2 Axes>"
            ]
          },
          "metadata": {
            "tags": []
          }
        }
      ]
    },
    {
      "cell_type": "code",
      "metadata": {
        "id": "5KORcABUIeO7",
        "colab_type": "code",
        "colab": {}
      },
      "source": [
        "model2.save('model_new_6epochs.h5')"
      ],
      "execution_count": 0,
      "outputs": []
    },
    {
      "cell_type": "code",
      "metadata": {
        "id": "1LC22jjHEuPf",
        "colab_type": "code",
        "colab": {}
      },
      "source": [
        "!cp model_new_6epochs.h5 /content/gdrive/Shared\\ drives/Predictive\\ Analytics\\ Project/models"
      ],
      "execution_count": 0,
      "outputs": []
    },
    {
      "cell_type": "code",
      "metadata": {
        "id": "2KoSW9XHb99-",
        "colab_type": "code",
        "colab": {}
      },
      "source": [
        "pred = model2.predict([X_test_nontextpart, X_test_text], batch_size=256, verbose=1)\n",
        "submission = pd.DataFrame({\n",
        "    \"id\": test[\"id\"],\n",
        "    \"project_is_approved\": pred.reshape(-1),\n",
        "})\n",
        "submission.to_csv('fiddle_6epoch_4-24.csv', index=False)"
      ],
      "execution_count": 0,
      "outputs": []
    },
    {
      "cell_type": "markdown",
      "metadata": {
        "id": "lTWp7BCQxjGx",
        "colab_type": "text"
      },
      "source": [
        "RNN model2: 6epoch with class weight"
      ]
    },
    {
      "cell_type": "code",
      "metadata": {
        "id": "_oqZi6JBmCP7",
        "colab_type": "code",
        "colab": {}
      },
      "source": [
        "from sklearn.utils import class_weight\n",
        "class_weights = class_weight.compute_class_weight('balanced',\n",
        "                                                 np.unique(train['project_is_approved']),\n",
        "                                                 train['project_is_approved'])"
      ],
      "execution_count": 0,
      "outputs": []
    },
    {
      "cell_type": "code",
      "metadata": {
        "id": "fbW1EBCbHeeB",
        "colab_type": "code",
        "outputId": "c3dced0a-5f0a-4788-db96-239082ddeeb2",
        "colab": {
          "base_uri": "https://localhost:8080/",
          "height": 34
        }
      },
      "source": [
        "class_weights"
      ],
      "execution_count": 0,
      "outputs": [
        {
          "output_type": "execute_result",
          "data": {
            "text/plain": [
              "array([3.2826134, 0.5898436])"
            ]
          },
          "metadata": {
            "tags": []
          },
          "execution_count": 49
        }
      ]
    },
    {
      "cell_type": "code",
      "metadata": {
        "id": "dGryogT1IePQ",
        "colab_type": "code",
        "colab": {}
      },
      "source": [
        "model3=get_model(\n",
        "    embedding_matrix,\n",
        "    sentences_length,\n",
        "    dropout_rate,\n",
        "    recurrent_units,\n",
        "    dense_size)"
      ],
      "execution_count": 0,
      "outputs": []
    },
    {
      "cell_type": "code",
      "metadata": {
        "id": "_Y6OZkB84ogj",
        "colab_type": "code",
        "outputId": "edaaeb29-71e5-489e-c8ab-e176c904b036",
        "colab": {
          "base_uri": "https://localhost:8080/",
          "height": 247
        }
      },
      "source": [
        "history_new3=model3.fit([X_train_nontextpart, X_train_text], y_train, epochs=6, batch_size=256, validation_split=0.2, verbose=1, class_weight=class_weights)"
      ],
      "execution_count": 0,
      "outputs": [
        {
          "output_type": "stream",
          "text": [
            "Train on 145664 samples, validate on 36416 samples\n",
            "Epoch 1/6\n",
            "145664/145664 [==============================] - 479s 3ms/step - loss: 0.4041 - acc: 0.8482 - val_loss: 0.3705 - val_acc: 0.8547\n",
            "Epoch 2/6\n",
            "145664/145664 [==============================] - 475s 3ms/step - loss: 0.3705 - acc: 0.8533 - val_loss: 0.3651 - val_acc: 0.8567\n",
            "Epoch 3/6\n",
            "145664/145664 [==============================] - 474s 3ms/step - loss: 0.3628 - acc: 0.8560 - val_loss: 0.3614 - val_acc: 0.8547\n",
            "Epoch 4/6\n",
            "145664/145664 [==============================] - 475s 3ms/step - loss: 0.3581 - acc: 0.8575 - val_loss: 0.3737 - val_acc: 0.8462\n",
            "Epoch 5/6\n",
            "145664/145664 [==============================] - 478s 3ms/step - loss: 0.3544 - acc: 0.8584 - val_loss: 0.3589 - val_acc: 0.8560\n",
            "Epoch 6/6\n",
            "145664/145664 [==============================] - 480s 3ms/step - loss: 0.3504 - acc: 0.8599 - val_loss: 0.3652 - val_acc: 0.8528\n"
          ],
          "name": "stdout"
        }
      ]
    },
    {
      "cell_type": "code",
      "metadata": {
        "id": "DMz_SEHtbm3n",
        "colab_type": "code",
        "outputId": "645b3f6c-a021-4d0b-b96a-1ecddb15c3a6",
        "colab": {
          "base_uri": "https://localhost:8080/",
          "height": 281
        }
      },
      "source": [
        "import matplotlib.pyplot as plt\n",
        "epochs=range(1,7)\n",
        "plt.subplot(211)\n",
        "plt.title('Loss')\n",
        "plt.plot(epochs, history_new3.history['loss'], label='train')\n",
        "plt.plot(epochs, history_new3.history['val_loss'], label='test')\n",
        "plt.legend()\n",
        "# plot accuracy during training\n",
        "plt.subplot(212)\n",
        "plt.title('Accuracy')\n",
        "plt.plot(epochs, history_new3.history['acc'], label='train')\n",
        "plt.plot(epochs, history_new3.history['val_acc'], label='test')\n",
        "plt.legend()\n",
        "plt.show()"
      ],
      "execution_count": 0,
      "outputs": [
        {
          "output_type": "display_data",
          "data": {
            "image/png": "[encoded data removed]",
            "text/plain": [
              "<Figure size 432x288 with 2 Axes>"
            ]
          },
          "metadata": {
            "tags": []
          }
        }
      ]
    },
    {
      "cell_type": "code",
      "metadata": {
        "id": "i6S_jYuGZWxx",
        "colab_type": "code",
        "colab": {}
      },
      "source": [
        "model3.save('model_new_6epochs_cw.h5')"
      ],
      "execution_count": 0,
      "outputs": []
    },
    {
      "cell_type": "code",
      "metadata": {
        "id": "c1-utcDbZ45R",
        "colab_type": "code",
        "colab": {}
      },
      "source": [
        "!cp model_new_6epochs_cw.h5 /content/gdrive/Shared\\ drives/Predictive\\ Analytics\\ Project/models"
      ],
      "execution_count": 0,
      "outputs": []
    },
    {
      "cell_type": "code",
      "metadata": {
        "id": "453Gw0MbZ-_K",
        "colab_type": "code",
        "outputId": "edf90efd-f1d6-4190-8c0c-317355238e54",
        "colab": {
          "base_uri": "https://localhost:8080/",
          "height": 34
        }
      },
      "source": [
        "#from keras.models import load_model\n",
        "#from keras.utils import CustomObjectScope\n",
        "#import h5py\n",
        "#model3 = load_model('/content/gdrive/Shared drives/Predictive Analytics Project/models/model_new_6epochs_cw.h5')\n",
        "\n",
        "pred = model3.predict([X_test_nontextpart, X_test_text], batch_size=256, verbose=1)\n",
        "submission = pd.DataFrame({\n",
        "    \"id\": test[\"id\"],\n",
        "    \"project_is_approved\": pred.reshape(-1),\n",
        "})\n",
        "submission.to_csv('fiddle_6epoch(cw).csv', index=False)"
      ],
      "execution_count": 0,
      "outputs": [
        {
          "output_type": "stream",
          "text": [
            "78035/78035 [==============================] - 98s 1ms/step\n"
          ],
          "name": "stdout"
        }
      ]
    },
    {
      "cell_type": "markdown",
      "metadata": {
        "id": "CNPYc8_FcOCm",
        "colab_type": "text"
      },
      "source": [
        "8 epochs"
      ]
    },
    {
      "cell_type": "code",
      "metadata": {
        "id": "6Hp-Iia_zb3j",
        "colab_type": "code",
        "colab": {}
      },
      "source": [
        "model4 = get_model(\n",
        "    embedding_matrix,\n",
        "    sentences_length,\n",
        "    dropout_rate,\n",
        "    recurrent_units,\n",
        "    dense_size)"
      ],
      "execution_count": 0,
      "outputs": []
    },
    {
      "cell_type": "code",
      "metadata": {
        "id": "0j2fThrLzfqP",
        "colab_type": "code",
        "outputId": "67b0e2ac-e22f-436f-f590-d09a1efff015",
        "colab": {
          "base_uri": "https://localhost:8080/",
          "height": 410
        }
      },
      "source": [
        "history_new4=model4.fit([X_train_nontextpart, X_train_text], y_train, epochs=8, batch_size=256, validation_split=0.2, verbose=1)"
      ],
      "execution_count": 0,
      "outputs": [
        {
          "output_type": "stream",
          "text": [
            "WARNING:tensorflow:From /usr/local/lib/python3.6/dist-packages/keras/backend/tensorflow_backend.py:986: The name tf.assign_add is deprecated. Please use tf.compat.v1.assign_add instead.\n",
            "\n",
            "WARNING:tensorflow:From /usr/local/lib/python3.6/dist-packages/keras/backend/tensorflow_backend.py:973: The name tf.assign is deprecated. Please use tf.compat.v1.assign instead.\n",
            "\n",
            "Train on 145664 samples, validate on 36416 samples\n",
            "Epoch 1/8\n",
            "145664/145664 [==============================] - 488s 3ms/step - loss: 0.4088 - acc: 0.8465 - val_loss: 0.3732 - val_acc: 0.8534\n",
            "Epoch 2/8\n",
            "145664/145664 [==============================] - 484s 3ms/step - loss: 0.3737 - acc: 0.8529 - val_loss: 0.3633 - val_acc: 0.8563\n",
            "Epoch 3/8\n",
            "145664/145664 [==============================] - 484s 3ms/step - loss: 0.3636 - acc: 0.8558 - val_loss: 0.3604 - val_acc: 0.8572\n",
            "Epoch 4/8\n",
            "145664/145664 [==============================] - 485s 3ms/step - loss: 0.3584 - acc: 0.8577 - val_loss: 0.3605 - val_acc: 0.8589\n",
            "Epoch 5/8\n",
            "145664/145664 [==============================] - 487s 3ms/step - loss: 0.3541 - acc: 0.8587 - val_loss: 0.3584 - val_acc: 0.8569\n",
            "Epoch 6/8\n",
            "145664/145664 [==============================] - 488s 3ms/step - loss: 0.3507 - acc: 0.8596 - val_loss: 0.3604 - val_acc: 0.8563\n",
            "Epoch 7/8\n",
            "145664/145664 [==============================] - 489s 3ms/step - loss: 0.3473 - acc: 0.8612 - val_loss: 0.3591 - val_acc: 0.8579\n",
            "Epoch 8/8\n",
            "145664/145664 [==============================] - 495s 3ms/step - loss: 0.3443 - acc: 0.8623 - val_loss: 0.3595 - val_acc: 0.8563\n"
          ],
          "name": "stdout"
        }
      ]
    },
    {
      "cell_type": "code",
      "metadata": {
        "id": "Y-EJJ2hEmheF",
        "colab_type": "code",
        "outputId": "a3ae74a2-88e5-4906-b44b-cbd446489178",
        "colab": {
          "base_uri": "https://localhost:8080/",
          "height": 281
        }
      },
      "source": [
        "import matplotlib.pyplot as plt\n",
        "epochs=range(1,9)\n",
        "plt.subplot(211)\n",
        "plt.title('Loss')\n",
        "plt.plot(epochs, history_new4.history['loss'], label='train')\n",
        "plt.plot(epochs, history_new4.history['val_loss'], label='test')\n",
        "plt.legend()\n",
        "# plot accuracy during training\n",
        "plt.subplot(212)\n",
        "plt.title('Accuracy')\n",
        "plt.plot(epochs, history_new4.history['acc'], label='train')\n",
        "plt.plot(epochs, history_new4.history['val_acc'], label='test')\n",
        "plt.legend()\n",
        "plt.show()"
      ],
      "execution_count": 0,
      "outputs": [
        {
          "output_type": "display_data",
          "data": {
            "image/png": "[encoded data removed]",
            "text/plain": [
              "<Figure size 432x288 with 2 Axes>"
            ]
          },
          "metadata": {
            "tags": []
          }
        }
      ]
    },
    {
      "cell_type": "code",
      "metadata": {
        "id": "HdFMG6J0nLJh",
        "colab_type": "code",
        "colab": {}
      },
      "source": [
        "model4.save('model_new_8epochs.h5')"
      ],
      "execution_count": 0,
      "outputs": []
    },
    {
      "cell_type": "code",
      "metadata": {
        "id": "FKteWV23n4uW",
        "colab_type": "code",
        "colab": {}
      },
      "source": [
        "!cp model_new_8epochs.h5 /content/gdrive/Shared\\ drives/Predictive\\ Analytics\\ Project/models"
      ],
      "execution_count": 0,
      "outputs": []
    },
    {
      "cell_type": "code",
      "metadata": {
        "id": "Zvyrz2p8oMqv",
        "colab_type": "code",
        "outputId": "ed4e471e-28ed-4bf7-8b7b-22a5c39cb93e",
        "colab": {
          "base_uri": "https://localhost:8080/",
          "height": 34
        }
      },
      "source": [
        "pred = model4.predict([X_test_nontextpart, X_test_text], batch_size=256, verbose=1)\n",
        "submission = pd.DataFrame({\n",
        "    \"id\": test[\"id\"],\n",
        "    \"project_is_approved\": pred.reshape(-1),\n",
        "})\n",
        "submission.to_csv('fiddle_8epoch.csv', index=False)"
      ],
      "execution_count": 0,
      "outputs": [
        {
          "output_type": "stream",
          "text": [
            "78035/78035 [==============================] - 102s 1ms/step\n"
          ],
          "name": "stdout"
        }
      ]
    },
    {
      "cell_type": "markdown",
      "metadata": {
        "id": "Z4TAj2tGcTcW",
        "colab_type": "text"
      },
      "source": [
        "new model with metrics of accuracy and AUC"
      ]
    },
    {
      "cell_type": "code",
      "metadata": {
        "id": "l7O6ou13pZMK",
        "colab_type": "code",
        "colab": {}
      },
      "source": [
        "import numpy as np\n",
        "import tensorflow as tf\n",
        "from sklearn.metrics import roc_auc_score\n",
        "from sklearn.datasets import make_classification\n",
        "from keras.models import Sequential\n",
        "from keras.layers import Dense\n",
        "from keras.utils import np_utils\n",
        "from keras.callbacks import Callback, EarlyStopping\n",
        "\n",
        "\n",
        "# define roc_callback, inspired by https://github.com/keras-team/keras/issues/6050#issuecomment-329996505\n",
        "def auc_roc(y_true, y_pred):\n",
        "    # any tensorflow metric\n",
        "    value, update_op = tf.contrib.metrics.streaming_auc(y_pred, y_true)\n",
        "\n",
        "    # find all variables created for this metric\n",
        "    metric_vars = [i for i in tf.local_variables() if 'auc_roc' in i.name.split('/')[1]]\n",
        "\n",
        "    # Add metric variables to GLOBAL_VARIABLES collection.\n",
        "    # They will be initialized for new session.\n",
        "    for v in metric_vars:\n",
        "        tf.add_to_collection(tf.GraphKeys.GLOBAL_VARIABLES, v)\n",
        "\n",
        "    # force to update metric values\n",
        "    with tf.control_dependencies([update_op]):\n",
        "        value = tf.identity(value)\n",
        "        return value\n"
      ],
      "execution_count": 0,
      "outputs": []
    },
    {
      "cell_type": "code",
      "metadata": {
        "id": "pCcOJmc8p_HE",
        "colab_type": "code",
        "colab": {}
      },
      "source": [
        "def get_model1(embedding_matrix, sequence_length, dropout_rate, recurrent_units, dense_size):\n",
        "    \n",
        "    nontext = Input(shape=[X_train_nontextpart.shape[1]], name=\"nontext\")\n",
        "    nontext1 = Dense(64, activation='relu')(nontext)\n",
        "    nontext1 = Dense(128, activation='relu')(nontext1) \n",
        "    \n",
        "    textpart = Input(shape=(sequence_length,),name=\"text\")\n",
        "    \n",
        "    embed_layer = Embedding(embedding_matrix.shape[0], embedding_matrix.shape[1],\n",
        "                                weights=[embedding_matrix], trainable=False)(textpart)\n",
        "    embed_layer = SpatialDropout1D(rate_drop_dense)(embed_layer)\n",
        "\n",
        "    x_text = Bidirectional(\n",
        "        GRU(gru_len, activation='relu', dropout=dropout_p, recurrent_dropout=dropout_p, return_sequences=True))(\n",
        "        embed_layer)\n",
        "    capsule = Capsule(num_capsule=Num_capsule, dim_capsule=Dim_capsule, routings=Routings,\n",
        "                      share_weights=True)(x_text)\n",
        "    capsule = Flatten()(capsule)\n",
        "    capsule = Dropout(dropout_p)(capsule)\n",
        "    \n",
        "    X = concatenate([\n",
        "        nontext1,\n",
        "        capsule,\n",
        "    ])    \n",
        "    \n",
        "    output = Dense(1, activation='sigmoid')(X)\n",
        "    model = Model(inputs=[nontext, textpart], outputs=output)\n",
        "    model.compile(\n",
        "        loss='binary_crossentropy',\n",
        "        optimizer='adam',\n",
        "        metrics=['accuracy', auc_roc])\n",
        "    return model"
      ],
      "execution_count": 0,
      "outputs": []
    },
    {
      "cell_type": "code",
      "metadata": {
        "id": "AiN4BYESvXQq",
        "colab_type": "code",
        "outputId": "ef9670c5-a10e-4bd3-9949-ea1f722e5848",
        "colab": {
          "base_uri": "https://localhost:8080/",
          "height": 854
        }
      },
      "source": [
        "model_auc=get_model1(\n",
        "    embedding_matrix,\n",
        "    sentences_length,\n",
        "    dropout_rate,\n",
        "    recurrent_units,\n",
        "    dense_size)\n",
        "\n",
        "model_auc.summary()"
      ],
      "execution_count": 0,
      "outputs": [
        {
          "output_type": "stream",
          "text": [
            "WARNING:tensorflow:\n",
            "The TensorFlow contrib module will not be included in TensorFlow 2.0.\n",
            "For more information, please see:\n",
            "  * https://github.com/tensorflow/community/blob/master/rfcs/20180907-contrib-sunset.md\n",
            "  * https://github.com/tensorflow/addons\n",
            "  * https://github.com/tensorflow/io (for I/O related ops)\n",
            "If you depend on functionality not listed there, please file an issue.\n",
            "\n",
            "WARNING:tensorflow:From <ipython-input-62-a2cdef551e55>:14: streaming_auc (from tensorflow.contrib.metrics.python.ops.metric_ops) is deprecated and will be removed in a future version.\n",
            "Instructions for updating:\n",
            "Please switch to tf.metrics.auc. Note that the order of the labels and predictions arguments has been switched.\n",
            "WARNING:tensorflow:From /usr/local/lib/python3.6/dist-packages/tensorflow_core/python/ops/metrics_impl.py:808: div (from tensorflow.python.ops.math_ops) is deprecated and will be removed in a future version.\n",
            "Instructions for updating:\n",
            "Deprecated in favor of operator or tf.math.divide.\n",
            "__________________________________________________________________________________________________\n",
            "Layer (type)                    Output Shape         Param #     Connected to                     \n",
            "==================================================================================================\n",
            "text (InputLayer)               (None, 320)          0                                            \n",
            "__________________________________________________________________________________________________\n",
            "embedding_5 (Embedding)         (None, 320, 300)     23672400    text[0][0]                       \n",
            "__________________________________________________________________________________________________\n",
            "spatial_dropout1d_5 (SpatialDro (None, 320, 300)     0           embedding_5[0][0]                \n",
            "__________________________________________________________________________________________________\n",
            "bidirectional_5 (Bidirectional) (None, 320, 256)     329472      spatial_dropout1d_5[0][0]        \n",
            "__________________________________________________________________________________________________\n",
            "nontext (InputLayer)            (None, 126)          0                                            \n",
            "__________________________________________________________________________________________________\n",
            "capsule_5 (Capsule)             (None, 10, 16)       40960       bidirectional_5[0][0]            \n",
            "__________________________________________________________________________________________________\n",
            "dense_13 (Dense)                (None, 64)           8128        nontext[0][0]                    \n",
            "__________________________________________________________________________________________________\n",
            "flatten_5 (Flatten)             (None, 160)          0           capsule_5[0][0]                  \n",
            "__________________________________________________________________________________________________\n",
            "dense_14 (Dense)                (None, 128)          8320        dense_13[0][0]                   \n",
            "__________________________________________________________________________________________________\n",
            "dropout_5 (Dropout)             (None, 160)          0           flatten_5[0][0]                  \n",
            "__________________________________________________________________________________________________\n",
            "concatenate_5 (Concatenate)     (None, 288)          0           dense_14[0][0]                   \n",
            "                                                                 dropout_5[0][0]                  \n",
            "__________________________________________________________________________________________________\n",
            "dense_15 (Dense)                (None, 1)            289         concatenate_5[0][0]              \n",
            "==================================================================================================\n",
            "Total params: 24,059,569\n",
            "Trainable params: 387,169\n",
            "Non-trainable params: 23,672,400\n",
            "__________________________________________________________________________________________________\n"
          ],
          "name": "stdout"
        }
      ]
    },
    {
      "cell_type": "markdown",
      "metadata": {
        "id": "gwHdby_UcnYV",
        "colab_type": "text"
      },
      "source": [
        "8 epochs with class weight"
      ]
    },
    {
      "cell_type": "code",
      "metadata": {
        "id": "w-LVlUeL3JZh",
        "colab_type": "code",
        "outputId": "95b4e374-ea43-447e-cbc5-3b446d807dde",
        "colab": {
          "base_uri": "https://localhost:8080/",
          "height": 338
        }
      },
      "source": [
        "history_auc1=model_auc.fit([X_train_nontextpart, X_train_text], y_train, epochs=8, batch_size=256, validation_split=0.2, verbose=1, class_weight=class_weights)"
      ],
      "execution_count": 0,
      "outputs": [
        {
          "output_type": "stream",
          "text": [
            "Train on 145664 samples, validate on 36416 samples\n",
            "Epoch 1/8\n",
            "145664/145664 [==============================] - 523s 4ms/step - loss: 0.4070 - acc: 0.8469 - auc_roc: 0.5901 - val_loss: 0.3803 - val_acc: 0.8529 - val_auc_roc: 0.6628\n",
            "Epoch 2/8\n",
            "145664/145664 [==============================] - 513s 4ms/step - loss: 0.3731 - acc: 0.8526 - auc_roc: 0.6893 - val_loss: 0.3649 - val_acc: 0.8574 - val_auc_roc: 0.7077\n",
            "Epoch 3/8\n",
            "145664/145664 [==============================] - 508s 3ms/step - loss: 0.3651 - acc: 0.8552 - auc_roc: 0.7186 - val_loss: 0.3615 - val_acc: 0.8578 - val_auc_roc: 0.7265\n",
            "Epoch 4/8\n",
            "145664/145664 [==============================] - 500s 3ms/step - loss: 0.3591 - acc: 0.8575 - auc_roc: 0.7326 - val_loss: 0.3595 - val_acc: 0.8572 - val_auc_roc: 0.7379\n",
            "Epoch 5/8\n",
            "145664/145664 [==============================] - 498s 3ms/step - loss: 0.3540 - acc: 0.8587 - auc_roc: 0.7426 - val_loss: 0.3600 - val_acc: 0.8565 - val_auc_roc: 0.7464\n",
            "Epoch 6/8\n",
            "145664/145664 [==============================] - 482s 3ms/step - loss: 0.3503 - acc: 0.8601 - auc_roc: 0.7496 - val_loss: 0.3590 - val_acc: 0.8586 - val_auc_roc: 0.7528\n",
            "Epoch 7/8\n",
            "145664/145664 [==============================] - 478s 3ms/step - loss: 0.3473 - acc: 0.8620 - auc_roc: 0.7555 - val_loss: 0.3580 - val_acc: 0.8589 - val_auc_roc: 0.7579\n",
            "Epoch 8/8\n",
            "145664/145664 [==============================] - 478s 3ms/step - loss: 0.3430 - acc: 0.8624 - auc_roc: 0.7603 - val_loss: 0.3603 - val_acc: 0.8573 - val_auc_roc: 0.7624\n"
          ],
          "name": "stdout"
        }
      ]
    },
    {
      "cell_type": "code",
      "metadata": {
        "id": "vhsi6odFNZOQ",
        "colab_type": "code",
        "colab": {}
      },
      "source": [
        "model_auc.save('model_auc_8epochs_cw.h5')"
      ],
      "execution_count": 0,
      "outputs": []
    },
    {
      "cell_type": "code",
      "metadata": {
        "id": "R65hY8XnPh14",
        "colab_type": "code",
        "colab": {}
      },
      "source": [
        "!cp model_auc_8epochs_cw.h5 /content/gdrive/Shared\\ drives/Predictive\\ Analytics\\ Project/models"
      ],
      "execution_count": 0,
      "outputs": []
    },
    {
      "cell_type": "code",
      "metadata": {
        "id": "5Olb5NJPbFRA",
        "colab_type": "code",
        "outputId": "d832d191-6e6e-4fd1-fd02-0ee4f187b5a6",
        "colab": {
          "base_uri": "https://localhost:8080/",
          "height": 34
        }
      },
      "source": [
        "pred = model_auc.predict([X_test_nontextpart, X_test_text], batch_size=256, verbose=1)\n",
        "submission = pd.DataFrame({\n",
        "    \"id\": test[\"id\"],\n",
        "    \"project_is_approved\": pred.reshape(-1),\n",
        "})\n",
        "submission.to_csv('fiddle_8epoch(cw).csv', index=False)"
      ],
      "execution_count": 0,
      "outputs": [
        {
          "output_type": "stream",
          "text": [
            "78035/78035 [==============================] - 106s 1ms/step\n"
          ],
          "name": "stdout"
        }
      ]
    },
    {
      "cell_type": "markdown",
      "metadata": {
        "id": "Abclqf3-cxM_",
        "colab_type": "text"
      },
      "source": [
        "20 epochs with early stop"
      ]
    },
    {
      "cell_type": "code",
      "metadata": {
        "id": "iHql4tDCfbbD",
        "colab_type": "code",
        "outputId": "460cd42d-9b51-428a-9899-1c8b54c3a77d",
        "colab": {
          "base_uri": "https://localhost:8080/",
          "height": 410
        }
      },
      "source": [
        "model_auc2=get_model1(\n",
        "    embedding_matrix,\n",
        "    sentences_length,\n",
        "    dropout_rate,\n",
        "    recurrent_units,\n",
        "    dense_size)"
      ],
      "execution_count": 0,
      "outputs": [
        {
          "output_type": "stream",
          "text": [
            "WARNING:tensorflow:From /usr/local/lib/python3.6/dist-packages/keras/optimizers.py:790: The name tf.train.Optimizer is deprecated. Please use tf.compat.v1.train.Optimizer instead.\n",
            "\n",
            "WARNING:tensorflow:From /usr/local/lib/python3.6/dist-packages/keras/backend/tensorflow_backend.py:3376: The name tf.log is deprecated. Please use tf.math.log instead.\n",
            "\n",
            "WARNING:tensorflow:From /usr/local/lib/python3.6/dist-packages/tensorflow_core/python/ops/nn_impl.py:183: where (from tensorflow.python.ops.array_ops) is deprecated and will be removed in a future version.\n",
            "Instructions for updating:\n",
            "Use tf.where in 2.0, which has the same broadcast rule as np.where\n",
            "WARNING:tensorflow:\n",
            "The TensorFlow contrib module will not be included in TensorFlow 2.0.\n",
            "For more information, please see:\n",
            "  * https://github.com/tensorflow/community/blob/master/rfcs/20180907-contrib-sunset.md\n",
            "  * https://github.com/tensorflow/addons\n",
            "  * https://github.com/tensorflow/io (for I/O related ops)\n",
            "If you depend on functionality not listed there, please file an issue.\n",
            "\n",
            "WARNING:tensorflow:From <ipython-input-38-a2cdef551e55>:14: streaming_auc (from tensorflow.contrib.metrics.python.ops.metric_ops) is deprecated and will be removed in a future version.\n",
            "Instructions for updating:\n",
            "Please switch to tf.metrics.auc. Note that the order of the labels and predictions arguments has been switched.\n",
            "WARNING:tensorflow:From /usr/local/lib/python3.6/dist-packages/tensorflow_core/python/ops/metrics_impl.py:808: div (from tensorflow.python.ops.math_ops) is deprecated and will be removed in a future version.\n",
            "Instructions for updating:\n",
            "Deprecated in favor of operator or tf.math.divide.\n"
          ],
          "name": "stdout"
        }
      ]
    },
    {
      "cell_type": "code",
      "metadata": {
        "id": "MvcIUU_XPigK",
        "colab_type": "code",
        "colab": {}
      },
      "source": [
        "es = EarlyStopping(monitor='val_auc_roc',\n",
        "    mode='max',\n",
        "    restore_best_weights=True, \n",
        "    verbose=1,\n",
        "    patience=5)"
      ],
      "execution_count": 0,
      "outputs": []
    },
    {
      "cell_type": "code",
      "metadata": {
        "id": "TZzEt6JJfx8n",
        "colab_type": "code",
        "outputId": "5fcc03c1-9d7a-45d8-feab-d6d03b718f03",
        "colab": {
          "base_uri": "https://localhost:8080/",
          "height": 836
        }
      },
      "source": [
        "history_auc2=model_auc2.fit([X_train_nontextpart, X_train_text], y_train, epochs=20, batch_size=256, validation_split=0.2, verbose=1, callbacks = [es])"
      ],
      "execution_count": 0,
      "outputs": [
        {
          "output_type": "stream",
          "text": [
            "WARNING:tensorflow:From /usr/local/lib/python3.6/dist-packages/keras/backend/tensorflow_backend.py:986: The name tf.assign_add is deprecated. Please use tf.compat.v1.assign_add instead.\n",
            "\n",
            "WARNING:tensorflow:From /usr/local/lib/python3.6/dist-packages/keras/backend/tensorflow_backend.py:973: The name tf.assign is deprecated. Please use tf.compat.v1.assign instead.\n",
            "\n",
            "Train on 145664 samples, validate on 36416 samples\n",
            "Epoch 1/20\n",
            "145664/145664 [==============================] - 767s 5ms/step - loss: 0.4059 - acc: 0.8477 - auc_roc: 0.5870 - val_loss: 0.3714 - val_acc: 0.8542 - val_auc_roc: 0.6673\n",
            "Epoch 2/20\n",
            "145664/145664 [==============================] - 768s 5ms/step - loss: 0.3715 - acc: 0.8533 - auc_roc: 0.6959 - val_loss: 0.3631 - val_acc: 0.8559 - val_auc_roc: 0.7131\n",
            "Epoch 3/20\n",
            "145664/145664 [==============================] - 767s 5ms/step - loss: 0.3628 - acc: 0.8556 - auc_roc: 0.7237 - val_loss: 0.3628 - val_acc: 0.8549 - val_auc_roc: 0.7318\n",
            "Epoch 4/20\n",
            "145664/145664 [==============================] - 758s 5ms/step - loss: 0.3583 - acc: 0.8568 - auc_roc: 0.7377 - val_loss: 0.3580 - val_acc: 0.8579 - val_auc_roc: 0.7425\n",
            "Epoch 5/20\n",
            "145664/145664 [==============================] - 752s 5ms/step - loss: 0.3541 - acc: 0.8586 - auc_roc: 0.7466 - val_loss: 0.3582 - val_acc: 0.8584 - val_auc_roc: 0.7501\n",
            "Epoch 6/20\n",
            "145664/145664 [==============================] - 754s 5ms/step - loss: 0.3507 - acc: 0.8596 - auc_roc: 0.7530 - val_loss: 0.3588 - val_acc: 0.8559 - val_auc_roc: 0.7559\n",
            "Epoch 7/20\n",
            "145664/145664 [==============================] - 757s 5ms/step - loss: 0.3472 - acc: 0.8610 - auc_roc: 0.7582 - val_loss: 0.3601 - val_acc: 0.8561 - val_auc_roc: 0.7606\n",
            "Epoch 8/20\n",
            "145664/145664 [==============================] - 762s 5ms/step - loss: 0.3436 - acc: 0.8628 - auc_roc: 0.7628 - val_loss: 0.3588 - val_acc: 0.8578 - val_auc_roc: 0.7647\n",
            "Epoch 9/20\n",
            "145664/145664 [==============================] - 770s 5ms/step - loss: 0.3410 - acc: 0.8635 - auc_roc: 0.7666 - val_loss: 0.3646 - val_acc: 0.8527 - val_auc_roc: 0.7682\n",
            "Epoch 10/20\n",
            "145664/145664 [==============================] - 768s 5ms/step - loss: 0.3375 - acc: 0.8645 - auc_roc: 0.7699 - val_loss: 0.3655 - val_acc: 0.8576 - val_auc_roc: 0.7714\n",
            "Epoch 11/20\n",
            "145664/145664 [==============================] - 763s 5ms/step - loss: 0.3344 - acc: 0.8664 - auc_roc: 0.7728 - val_loss: 0.3662 - val_acc: 0.8566 - val_auc_roc: 0.7742\n",
            "Epoch 12/20\n",
            "145664/145664 [==============================] - 757s 5ms/step - loss: 0.3318 - acc: 0.8665 - auc_roc: 0.7756 - val_loss: 0.3655 - val_acc: 0.8543 - val_auc_roc: 0.7769\n",
            "Epoch 13/20\n",
            "145664/145664 [==============================] - 760s 5ms/step - loss: 0.3280 - acc: 0.8688 - auc_roc: 0.7783 - val_loss: 0.3686 - val_acc: 0.8535 - val_auc_roc: 0.7796\n",
            "Epoch 14/20\n",
            "145664/145664 [==============================] - 765s 5ms/step - loss: 0.3258 - acc: 0.8692 - auc_roc: 0.7809 - val_loss: 0.3691 - val_acc: 0.8556 - val_auc_roc: 0.7820\n",
            "Epoch 15/20\n",
            "145664/145664 [==============================] - 759s 5ms/step - loss: 0.3225 - acc: 0.8706 - auc_roc: 0.7833 - val_loss: 0.3725 - val_acc: 0.8540 - val_auc_roc: 0.7843\n",
            "Epoch 16/20\n",
            "145664/145664 [==============================] - 760s 5ms/step - loss: 0.3195 - acc: 0.8720 - auc_roc: 0.7855 - val_loss: 0.3763 - val_acc: 0.8505 - val_auc_roc: 0.7865\n",
            "Epoch 17/20\n",
            "145664/145664 [==============================] - 757s 5ms/step - loss: 0.3164 - acc: 0.8728 - auc_roc: 0.7877 - val_loss: 0.3755 - val_acc: 0.8510 - val_auc_roc: 0.7887\n",
            "Epoch 18/20\n",
            "145664/145664 [==============================] - 753s 5ms/step - loss: 0.3148 - acc: 0.8733 - auc_roc: 0.7897 - val_loss: 0.3753 - val_acc: 0.8515 - val_auc_roc: 0.7907\n",
            "Epoch 19/20\n",
            "145664/145664 [==============================] - 750s 5ms/step - loss: 0.3116 - acc: 0.8755 - auc_roc: 0.7917 - val_loss: 0.3804 - val_acc: 0.8510 - val_auc_roc: 0.7926\n",
            "Epoch 20/20\n",
            "145664/145664 [==============================] - 756s 5ms/step - loss: 0.3083 - acc: 0.8760 - auc_roc: 0.7936 - val_loss: 0.3816 - val_acc: 0.8518 - val_auc_roc: 0.7945\n"
          ],
          "name": "stdout"
        }
      ]
    },
    {
      "cell_type": "code",
      "metadata": {
        "id": "jyOc5f4JgBqz",
        "colab_type": "code",
        "outputId": "421d71fd-8cc4-403a-bd85-b1d48e7f15d9",
        "colab": {
          "base_uri": "https://localhost:8080/",
          "height": 34
        }
      },
      "source": [
        "pred = model_auc2.predict([X_test_nontextpart, X_test_text], batch_size=256, verbose=1)\n",
        "submission = pd.DataFrame({\n",
        "    \"id\": test[\"id\"],\n",
        "    \"project_is_approved\": pred.reshape(-1),\n",
        "})\n",
        "submission.to_csv('fiddle_20epoch.csv', index=False)"
      ],
      "execution_count": 0,
      "outputs": [
        {
          "output_type": "stream",
          "text": [
            "78035/78035 [==============================] - 167s 2ms/step\n"
          ],
          "name": "stdout"
        }
      ]
    },
    {
      "cell_type": "markdown",
      "metadata": {
        "id": "MrpWtJE6dDN7",
        "colab_type": "text"
      },
      "source": [
        "6 epochs with class weight and auc evaluation"
      ]
    },
    {
      "cell_type": "code",
      "metadata": {
        "id": "J5fd9WSw2RiE",
        "colab_type": "code",
        "colab": {}
      },
      "source": [
        "model6=get_model1(\n",
        "    embedding_matrix,\n",
        "    sentences_length,\n",
        "    dropout_rate,\n",
        "    recurrent_units,\n",
        "    dense_size)\n"
      ],
      "execution_count": 0,
      "outputs": []
    },
    {
      "cell_type": "code",
      "metadata": {
        "id": "VUfgUR9IiiAG",
        "colab_type": "code",
        "outputId": "874fd41c-9b2a-4d93-ec02-8235a1b93bda",
        "colab": {
          "base_uri": "https://localhost:8080/",
          "height": 585
        }
      },
      "source": [
        "model6.summary()"
      ],
      "execution_count": 0,
      "outputs": [
        {
          "output_type": "stream",
          "text": [
            "__________________________________________________________________________________________________\n",
            "Layer (type)                    Output Shape         Param #     Connected to                     \n",
            "==================================================================================================\n",
            "text (InputLayer)               (None, 320)          0                                            \n",
            "__________________________________________________________________________________________________\n",
            "embedding_4 (Embedding)         (None, 320, 300)     23672400    text[0][0]                       \n",
            "__________________________________________________________________________________________________\n",
            "spatial_dropout1d_4 (SpatialDro (None, 320, 300)     0           embedding_4[0][0]                \n",
            "__________________________________________________________________________________________________\n",
            "bidirectional_4 (Bidirectional) (None, 320, 256)     329472      spatial_dropout1d_4[0][0]        \n",
            "__________________________________________________________________________________________________\n",
            "nontext (InputLayer)            (None, 126)          0                                            \n",
            "__________________________________________________________________________________________________\n",
            "capsule_4 (Capsule)             (None, 10, 16)       40960       bidirectional_4[0][0]            \n",
            "__________________________________________________________________________________________________\n",
            "dense_10 (Dense)                (None, 64)           8128        nontext[0][0]                    \n",
            "__________________________________________________________________________________________________\n",
            "flatten_4 (Flatten)             (None, 160)          0           capsule_4[0][0]                  \n",
            "__________________________________________________________________________________________________\n",
            "dense_11 (Dense)                (None, 128)          8320        dense_10[0][0]                   \n",
            "__________________________________________________________________________________________________\n",
            "dropout_4 (Dropout)             (None, 160)          0           flatten_4[0][0]                  \n",
            "__________________________________________________________________________________________________\n",
            "concatenate_4 (Concatenate)     (None, 288)          0           dense_11[0][0]                   \n",
            "                                                                 dropout_4[0][0]                  \n",
            "__________________________________________________________________________________________________\n",
            "dense_12 (Dense)                (None, 1)            289         concatenate_4[0][0]              \n",
            "==================================================================================================\n",
            "Total params: 24,059,569\n",
            "Trainable params: 387,169\n",
            "Non-trainable params: 23,672,400\n",
            "__________________________________________________________________________________________________\n"
          ],
          "name": "stdout"
        }
      ]
    },
    {
      "cell_type": "code",
      "metadata": {
        "id": "XdkdPwaE3bqI",
        "colab_type": "code",
        "colab": {}
      },
      "source": [
        "import random\n",
        "from sklearn.model_selection import train_test_split\n",
        "x_train = [X_train_nontextpart, X_train_text]\n",
        "random.seed(5)\n",
        "non_text_train, non_text_validation, text_train, text_validation, ytrain, yvalidation = train_test_split(X_train_nontextpart, \n",
        "                                                                            X_train_text, \n",
        "                                                                            y_train, \n",
        "                                                                            test_size =0.2)"
      ],
      "execution_count": 0,
      "outputs": []
    },
    {
      "cell_type": "code",
      "metadata": {
        "id": "C5mpZlrh2YV5",
        "colab_type": "code",
        "outputId": "77911e05-8691-4f8c-b96d-26b685597f74",
        "colab": {
          "base_uri": "https://localhost:8080/",
          "height": 267
        }
      },
      "source": [
        "history_new6=model6.fit([non_text_train,text_train], ytrain, epochs=6, batch_size=256, validation_split=0.2, verbose=1, class_weight=class_weights)"
      ],
      "execution_count": 0,
      "outputs": [
        {
          "output_type": "stream",
          "text": [
            "Train on 116531 samples, validate on 29133 samples\n",
            "Epoch 1/6\n",
            "116531/116531 [==============================] - 612s 5ms/step - loss: 0.4169 - acc: 0.8445 - auc_roc: 0.5636 - val_loss: 0.3850 - val_acc: 0.8496 - val_auc_roc: 0.6372\n",
            "Epoch 2/6\n",
            "116531/116531 [==============================] - 608s 5ms/step - loss: 0.3770 - acc: 0.8515 - auc_roc: 0.6713 - val_loss: 0.3676 - val_acc: 0.8546 - val_auc_roc: 0.6939\n",
            "Epoch 3/6\n",
            "116531/116531 [==============================] - 609s 5ms/step - loss: 0.3659 - acc: 0.8551 - auc_roc: 0.7076 - val_loss: 0.3638 - val_acc: 0.8551 - val_auc_roc: 0.7176\n",
            "Epoch 4/6\n",
            "116531/116531 [==============================] - 594s 5ms/step - loss: 0.3605 - acc: 0.8563 - auc_roc: 0.7252 - val_loss: 0.3619 - val_acc: 0.8566 - val_auc_roc: 0.7312\n",
            "Epoch 5/6\n",
            "116531/116531 [==============================] - 593s 5ms/step - loss: 0.3565 - acc: 0.8581 - auc_roc: 0.7361 - val_loss: 0.3644 - val_acc: 0.8579 - val_auc_roc: 0.7401\n",
            "Epoch 6/6\n",
            "116531/116531 [==============================] - 589s 5ms/step - loss: 0.3523 - acc: 0.8601 - auc_roc: 0.7437 - val_loss: 0.3629 - val_acc: 0.8557 - val_auc_roc: 0.7470\n"
          ],
          "name": "stdout"
        }
      ]
    },
    {
      "cell_type": "code",
      "metadata": {
        "id": "TYmsBtz7zsKH",
        "colab_type": "code",
        "outputId": "36981b83-81cb-4dbe-bfb4-b8108ce4e824",
        "colab": {
          "base_uri": "https://localhost:8080/",
          "height": 281
        }
      },
      "source": [
        "import matplotlib.pyplot as plt\n",
        "epochs=range(1,7)\n",
        "plt.subplot(211)\n",
        "plt.title('AUC')\n",
        "plt.plot(epochs, history_new6.history['auc_roc'], label='train')\n",
        "plt.plot(epochs, history_new6.history['val_auc_roc'], label='validation')\n",
        "plt.legend()\n",
        "# plot accuracy during training\n",
        "plt.subplot(212)\n",
        "plt.title('Accuracy')\n",
        "plt.plot(epochs, history_new6.history['acc'], label='train')\n",
        "plt.plot(epochs, history_new6.history['val_acc'], label='validation')\n",
        "plt.legend()\n",
        "plt.show()"
      ],
      "execution_count": 0,
      "outputs": [
        {
          "output_type": "display_data",
          "data": {
            "image/png": "[encoded data removed]",
            "text/plain": [
              "<Figure size 432x288 with 2 Axes>"
            ]
          },
          "metadata": {
            "tags": []
          }
        }
      ]
    },
    {
      "cell_type": "code",
      "metadata": {
        "id": "akpdONm7x9AF",
        "colab_type": "code",
        "outputId": "65aea4d3-c80d-4e9a-fc22-039355a80008",
        "colab": {
          "base_uri": "https://localhost:8080/",
          "height": 34
        }
      },
      "source": [
        "pred6 = model6.predict([non_text_validation, text_validation], batch_size=256, verbose=1)"
      ],
      "execution_count": 0,
      "outputs": [
        {
          "output_type": "stream",
          "text": [
            "36416/36416 [==============================] - 76s 2ms/step\n"
          ],
          "name": "stdout"
        }
      ]
    },
    {
      "cell_type": "code",
      "metadata": {
        "id": "fvjgEDQXyMJw",
        "colab_type": "code",
        "outputId": "e86f2548-2d91-41c9-8d69-b9097daba329",
        "colab": {
          "base_uri": "https://localhost:8080/",
          "height": 194
        }
      },
      "source": [
        "from sklearn.metrics import confusion_matrix,recall_score,precision_recall_curve,auc,roc_curve,roc_auc_score,classification_report\n",
        "print(roc_auc_score(yvalidation,pred6, sample_weight=None))\n",
        "print(classification_report(yvalidation,pred6.round()))"
      ],
      "execution_count": 0,
      "outputs": [
        {
          "output_type": "stream",
          "text": [
            "0.7702652499904079\n",
            "              precision    recall  f1-score   support\n",
            "\n",
            "           0       0.56      0.25      0.34      5504\n",
            "           1       0.88      0.97      0.92     30912\n",
            "\n",
            "    accuracy                           0.86     36416\n",
            "   macro avg       0.72      0.61      0.63     36416\n",
            "weighted avg       0.83      0.86      0.83     36416\n",
            "\n"
          ],
          "name": "stdout"
        }
      ]
    },
    {
      "cell_type": "code",
      "metadata": {
        "id": "Q9V7ft0zyRrW",
        "colab_type": "code",
        "outputId": "7f28ccb0-48a0-4065-dba4-e04e54a3e0b2",
        "colab": {
          "base_uri": "https://localhost:8080/",
          "height": 313
        }
      },
      "source": [
        "import matplotlib.pyplot as plt\n",
        "import seaborn as sns\n",
        "cnf_matrix=confusion_matrix(yvalidation,pred6.round())\n",
        "fig= plt.figure(figsize=(6,3))\n",
        "print(\"TP\",cnf_matrix[1,1,])\n",
        "print(\"TN\",cnf_matrix[0,0])\n",
        "print(\"FP\",cnf_matrix[0,1])\n",
        "   \n",
        "print(\"FN\",cnf_matrix[1,0])\n",
        "sns.heatmap(cnf_matrix,cmap=\"coolwarm_r\",annot=True,linewidths=0.5)\n",
        "plt.title(\"Confusion_matrix\")\n",
        "plt.xlabel(\"Predicted_class\")\n",
        "plt.ylabel(\"Real class\")\n",
        "plt.show()"
      ],
      "execution_count": 0,
      "outputs": [
        {
          "output_type": "stream",
          "text": [
            "TP 29861\n",
            "TN 1354\n",
            "FP 4150\n",
            "FN 1051\n"
          ],
          "name": "stdout"
        },
        {
          "output_type": "display_data",
          "data": {
            "image/png": "[encoded data removed]",
            "text/plain": [
              "<Figure size 432x216 with 2 Axes>"
            ]
          },
          "metadata": {
            "tags": []
          }
        }
      ]
    },
    {
      "cell_type": "code",
      "metadata": {
        "id": "UjeuQaql0UL7",
        "colab_type": "code",
        "outputId": "d914a3ee-8027-4bfe-905d-a1166ee1877e",
        "colab": {
          "base_uri": "https://localhost:8080/",
          "height": 72
        }
      },
      "source": [
        "test = pd.read_csv('/content/gdrive/Shared drives/Predictive Analytics Project/Data/Original Dataset/test.csv')"
      ],
      "execution_count": 0,
      "outputs": [
        {
          "output_type": "stream",
          "text": [
            "/usr/local/lib/python3.6/dist-packages/IPython/core/interactiveshell.py:2718: DtypeWarning: Columns (11,12) have mixed types. Specify dtype option on import or set low_memory=False.\n",
            "  interactivity=interactivity, compiler=compiler, result=result)\n"
          ],
          "name": "stderr"
        }
      ]
    },
    {
      "cell_type": "code",
      "metadata": {
        "id": "WypuN4gxyXN7",
        "colab_type": "code",
        "outputId": "6c99972a-ac24-43fc-c3c1-0f619ea8921a",
        "colab": {
          "base_uri": "https://localhost:8080/",
          "height": 34
        }
      },
      "source": [
        "pred = model6.predict([X_test_nontextpart, X_test_text], batch_size=256, verbose=1)\n",
        "submission = pd.DataFrame({\n",
        "    \"id\": test[\"id\"],\n",
        "    \"project_is_approved\": pred.reshape(-1),\n",
        "})\n",
        "submission.to_csv('fiddle_6_77%.csv', index=False)"
      ],
      "execution_count": 0,
      "outputs": [
        {
          "output_type": "stream",
          "text": [
            "78035/78035 [==============================] - 159s 2ms/step\n"
          ],
          "name": "stdout"
        }
      ]
    },
    {
      "cell_type": "code",
      "metadata": {
        "id": "4bYPveh58ubI",
        "colab_type": "code",
        "colab": {}
      },
      "source": [
        "import pickle\n",
        "def load_obj(fname):\n",
        "    with open(fname, 'rb') as f:\n",
        "        return pickle.load(f)"
      ],
      "execution_count": 0,
      "outputs": []
    },
    {
      "cell_type": "code",
      "metadata": {
        "id": "xFi1Mran9JBQ",
        "colab_type": "code",
        "colab": {}
      },
      "source": [
        "X_train_text2 = load_obj('/content/gdrive/Shared drives/Predictive Analytics Project/Data/X_train_text.pkl')"
      ],
      "execution_count": 0,
      "outputs": []
    },
    {
      "cell_type": "code",
      "metadata": {
        "id": "NJ-p9URIdr9D",
        "colab_type": "code",
        "colab": {}
      },
      "source": [
        "del X_train_text2"
      ],
      "execution_count": 0,
      "outputs": []
    },
    {
      "cell_type": "code",
      "metadata": {
        "id": "cf5VfFzl92Fl",
        "colab_type": "code",
        "colab": {}
      },
      "source": [
        "non_text_train, non_text_validation, text_train, text_validation, ytrain, yvalidation = train_test_split(X_train_nontextpart, \n",
        "                                                                            X_train_text2, \n",
        "                                                                            y_train, \n",
        "                                                                            test_size =0.2)"
      ],
      "execution_count": 0,
      "outputs": []
    },
    {
      "cell_type": "markdown",
      "metadata": {
        "id": "cN36ZR-ldeUD",
        "colab_type": "text"
      },
      "source": [
        "10 epochs with class weight and auc"
      ]
    },
    {
      "cell_type": "code",
      "metadata": {
        "id": "pRzIvFvE9677",
        "colab_type": "code",
        "colab": {}
      },
      "source": [
        "model10=get_model1(\n",
        "    embedding_matrix,\n",
        "    sentences_length,\n",
        "    dropout_rate,\n",
        "    recurrent_units,\n",
        "    dense_size)"
      ],
      "execution_count": 0,
      "outputs": []
    },
    {
      "cell_type": "code",
      "metadata": {
        "id": "zA9elaII-H37",
        "colab_type": "code",
        "outputId": "bda789cd-06cd-4b06-c1bf-f639b0d5c007",
        "colab": {
          "base_uri": "https://localhost:8080/",
          "height": 410
        }
      },
      "source": [
        "history_new10=model10.fit([non_text_train,text_train], ytrain, epochs=10, batch_size=256, validation_split=0.2, verbose=1, class_weight=class_weights)"
      ],
      "execution_count": 0,
      "outputs": [
        {
          "output_type": "stream",
          "text": [
            "Train on 116531 samples, validate on 29133 samples\n",
            "Epoch 1/10\n",
            "116531/116531 [==============================] - 607s 5ms/step - loss: 0.4078 - acc: 0.8483 - auc_roc: 0.5792 - val_loss: 0.3768 - val_acc: 0.8528 - val_auc_roc: 0.6607\n",
            "Epoch 2/10\n",
            "116531/116531 [==============================] - 587s 5ms/step - loss: 0.3756 - acc: 0.8520 - auc_roc: 0.6893 - val_loss: 0.3769 - val_acc: 0.8519 - val_auc_roc: 0.7047\n",
            "Epoch 3/10\n",
            "116531/116531 [==============================] - 607s 5ms/step - loss: 0.3667 - acc: 0.8552 - auc_roc: 0.7143 - val_loss: 0.3676 - val_acc: 0.8537 - val_auc_roc: 0.7223\n",
            "Epoch 4/10\n",
            "116531/116531 [==============================] - 604s 5ms/step - loss: 0.3612 - acc: 0.8571 - auc_roc: 0.7285 - val_loss: 0.3620 - val_acc: 0.8566 - val_auc_roc: 0.7337\n",
            "Epoch 5/10\n",
            "116531/116531 [==============================] - 638s 5ms/step - loss: 0.3572 - acc: 0.8579 - auc_roc: 0.7382 - val_loss: 0.3639 - val_acc: 0.8540 - val_auc_roc: 0.7419\n",
            "Epoch 6/10\n",
            "116531/116531 [==============================] - 630s 5ms/step - loss: 0.3529 - acc: 0.8599 - auc_roc: 0.7453 - val_loss: 0.3640 - val_acc: 0.8557 - val_auc_roc: 0.7483\n",
            "Epoch 7/10\n",
            "116531/116531 [==============================] - 617s 5ms/step - loss: 0.3486 - acc: 0.8611 - auc_roc: 0.7511 - val_loss: 0.3664 - val_acc: 0.8538 - val_auc_roc: 0.7537\n",
            "Epoch 8/10\n",
            "116531/116531 [==============================] - 622s 5ms/step - loss: 0.3453 - acc: 0.8628 - auc_roc: 0.7560 - val_loss: 0.3651 - val_acc: 0.8570 - val_auc_roc: 0.7582\n",
            "Epoch 9/10\n",
            "116531/116531 [==============================] - 611s 5ms/step - loss: 0.3413 - acc: 0.8646 - auc_roc: 0.7603 - val_loss: 0.3683 - val_acc: 0.8512 - val_auc_roc: 0.7622\n",
            "Epoch 10/10\n",
            "116531/116531 [==============================] - 628s 5ms/step - loss: 0.3385 - acc: 0.8649 - auc_roc: 0.7642 - val_loss: 0.3668 - val_acc: 0.8521 - val_auc_roc: 0.7659\n"
          ],
          "name": "stdout"
        }
      ]
    },
    {
      "cell_type": "code",
      "metadata": {
        "id": "klKCsxCWMQyA",
        "colab_type": "code",
        "outputId": "1c3fee99-b3e6-4ab8-860c-6b174dcfea50",
        "colab": {
          "base_uri": "https://localhost:8080/",
          "height": 34
        }
      },
      "source": [
        "pred10 = model10.predict([non_text_validation, text_validation], batch_size=256, verbose=1)"
      ],
      "execution_count": 0,
      "outputs": [
        {
          "output_type": "stream",
          "text": [
            "36416/36416 [==============================] - 79s 2ms/step\n"
          ],
          "name": "stdout"
        }
      ]
    },
    {
      "cell_type": "code",
      "metadata": {
        "id": "DLsBw6M2S57X",
        "colab_type": "code",
        "outputId": "69bff369-f223-4e4a-c648-1c3ffcb7377a",
        "colab": {
          "base_uri": "https://localhost:8080/",
          "height": 194
        }
      },
      "source": [
        "from sklearn.metrics import confusion_matrix,recall_score,precision_recall_curve,auc,roc_curve,roc_auc_score,classification_report\n",
        "print(roc_auc_score(yvalidation,pred10, sample_weight=None))\n",
        "print(classification_report(yvalidation,pred10.round()))"
      ],
      "execution_count": 0,
      "outputs": [
        {
          "output_type": "stream",
          "text": [
            "0.7698230279634761\n",
            "              precision    recall  f1-score   support\n",
            "\n",
            "           0       0.54      0.31      0.39      5504\n",
            "           1       0.89      0.95      0.92     30912\n",
            "\n",
            "    accuracy                           0.86     36416\n",
            "   macro avg       0.71      0.63      0.66     36416\n",
            "weighted avg       0.83      0.86      0.84     36416\n",
            "\n"
          ],
          "name": "stdout"
        }
      ]
    },
    {
      "cell_type": "code",
      "metadata": {
        "id": "4Whfag5EZmgf",
        "colab_type": "code",
        "outputId": "1ae203bc-555f-4b54-80de-1f64ca9abe24",
        "colab": {
          "base_uri": "https://localhost:8080/",
          "height": 313
        }
      },
      "source": [
        "import matplotlib.pyplot as plt\n",
        "import seaborn as sns\n",
        "cnf_matrix=confusion_matrix(yvalidation,pred10.round())\n",
        "fig= plt.figure(figsize=(6,3))\n",
        "print(\"TP\",cnf_matrix[1,1,])\n",
        "print(\"TN\",cnf_matrix[0,0])\n",
        "print(\"FP\",cnf_matrix[0,1])\n",
        "   \n",
        "print(\"FN\",cnf_matrix[1,0])\n",
        "sns.heatmap(cnf_matrix,cmap=\"coolwarm_r\",annot=True,linewidths=0.5)\n",
        "plt.title(\"Confusion_matrix\")\n",
        "plt.xlabel(\"Predicted_class\")\n",
        "plt.ylabel(\"Real class\")\n",
        "plt.show()"
      ],
      "execution_count": 0,
      "outputs": [
        {
          "output_type": "stream",
          "text": [
            "TP 30041\n",
            "TN 803\n",
            "FP 4876\n",
            "FN 696\n"
          ],
          "name": "stdout"
        },
        {
          "output_type": "display_data",
          "data": {
            "image/png": "[encoded data removed]",
            "text/plain": [
              "<Figure size 432x216 with 2 Axes>"
            ]
          },
          "metadata": {
            "tags": []
          }
        }
      ]
    },
    {
      "cell_type": "code",
      "metadata": {
        "id": "RvF2pBL4arcd",
        "colab_type": "code",
        "outputId": "62ab9cd5-194c-404b-b93f-1c8e2f4489a9",
        "colab": {
          "base_uri": "https://localhost:8080/",
          "height": 34
        }
      },
      "source": [
        "pred = model10.predict([X_test_nontextpart, X_test_text], batch_size=256, verbose=1)\n",
        "submission = pd.DataFrame({\n",
        "    \"id\": test[\"id\"],\n",
        "    \"project_is_approved\": pred.reshape(-1),\n",
        "})\n",
        "submission.to_csv('fiddle_10epoch.csv', index=False)"
      ],
      "execution_count": 0,
      "outputs": [
        {
          "output_type": "stream",
          "text": [
            "78035/78035 [==============================] - 167s 2ms/step\n"
          ],
          "name": "stdout"
        }
      ]
    }
  ]
}